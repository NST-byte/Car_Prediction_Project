{
 "cells": [
  {
   "cell_type": "markdown",
   "metadata": {},
   "source": [
    "# Predicting the value of car sales project\n",
    "\n",
    "Nicholas Stollmann <br>"
   ]
  },
  {
   "cell_type": "markdown",
   "metadata": {},
   "source": [
    "### Loading Libraries"
   ]
  },
  {
   "cell_type": "code",
   "execution_count": 1,
   "metadata": {},
   "outputs": [],
   "source": [
    "import pandas as pd\n",
    "import numpy as np\n",
    "from matplotlib import pyplot as plt\n",
    "from matplotlib.pyplot import figure\n",
    "import seaborn as sns\n",
    "import time as tm\n",
    "import random\n",
    "\n",
    "from sklearn.ensemble import RandomForestClassifier, RandomForestRegressor\n",
    "from sklearn.model_selection import train_test_split, cross_val_score\n",
    "from sklearn.preprocessing import StandardScaler\n",
    "from sklearn import metrics\n",
    "from sklearn.model_selection import GridSearchCV,cross_val_score\n",
    "from sklearn.linear_model import LinearRegression,ElasticNet,Ridge,Lasso,RidgeCV\n",
    "from sklearn.tree import DecisionTreeRegressor,plot_tree\n",
    "from sklearn.svm import SVR\n",
    "\n",
    "from scipy import stats"
   ]
  },
  {
   "cell_type": "code",
   "execution_count": 2,
   "metadata": {},
   "outputs": [
    {
     "data": {
      "text/html": [
       "<div>\n",
       "<style scoped>\n",
       "    .dataframe tbody tr th:only-of-type {\n",
       "        vertical-align: middle;\n",
       "    }\n",
       "\n",
       "    .dataframe tbody tr th {\n",
       "        vertical-align: top;\n",
       "    }\n",
       "\n",
       "    .dataframe thead th {\n",
       "        text-align: right;\n",
       "    }\n",
       "</style>\n",
       "<table border=\"1\" class=\"dataframe\">\n",
       "  <thead>\n",
       "    <tr style=\"text-align: right;\">\n",
       "      <th></th>\n",
       "      <th>0</th>\n",
       "      <th>1</th>\n",
       "      <th>2</th>\n",
       "      <th>3</th>\n",
       "      <th>4</th>\n",
       "    </tr>\n",
       "  </thead>\n",
       "  <tbody>\n",
       "    <tr>\n",
       "      <th>dateCrawled</th>\n",
       "      <td>2016-03-24 11:52:17</td>\n",
       "      <td>2016-03-24 10:58:45</td>\n",
       "      <td>2016-03-14 12:52:21</td>\n",
       "      <td>2016-03-17 16:54:04</td>\n",
       "      <td>2016-03-31 17:25:20</td>\n",
       "    </tr>\n",
       "    <tr>\n",
       "      <th>name</th>\n",
       "      <td>Golf_3_1.6</td>\n",
       "      <td>A5_Sportback_2.7_Tdi</td>\n",
       "      <td>Jeep_Grand_Cherokee_\"Overland\"</td>\n",
       "      <td>GOLF_4_1_4__3TÜRER</td>\n",
       "      <td>Skoda_Fabia_1.4_TDI_PD_Classic</td>\n",
       "    </tr>\n",
       "    <tr>\n",
       "      <th>seller</th>\n",
       "      <td>privat</td>\n",
       "      <td>privat</td>\n",
       "      <td>privat</td>\n",
       "      <td>privat</td>\n",
       "      <td>privat</td>\n",
       "    </tr>\n",
       "    <tr>\n",
       "      <th>offerType</th>\n",
       "      <td>Angebot</td>\n",
       "      <td>Angebot</td>\n",
       "      <td>Angebot</td>\n",
       "      <td>Angebot</td>\n",
       "      <td>Angebot</td>\n",
       "    </tr>\n",
       "    <tr>\n",
       "      <th>price</th>\n",
       "      <td>480</td>\n",
       "      <td>18300</td>\n",
       "      <td>9800</td>\n",
       "      <td>1500</td>\n",
       "      <td>3600</td>\n",
       "    </tr>\n",
       "    <tr>\n",
       "      <th>abtest</th>\n",
       "      <td>test</td>\n",
       "      <td>test</td>\n",
       "      <td>test</td>\n",
       "      <td>test</td>\n",
       "      <td>test</td>\n",
       "    </tr>\n",
       "    <tr>\n",
       "      <th>vehicleType</th>\n",
       "      <td>NaN</td>\n",
       "      <td>coupe</td>\n",
       "      <td>suv</td>\n",
       "      <td>kleinwagen</td>\n",
       "      <td>kleinwagen</td>\n",
       "    </tr>\n",
       "    <tr>\n",
       "      <th>yearOfRegistration</th>\n",
       "      <td>1993</td>\n",
       "      <td>2011</td>\n",
       "      <td>2004</td>\n",
       "      <td>2001</td>\n",
       "      <td>2008</td>\n",
       "    </tr>\n",
       "    <tr>\n",
       "      <th>gearbox</th>\n",
       "      <td>manuell</td>\n",
       "      <td>manuell</td>\n",
       "      <td>automatik</td>\n",
       "      <td>manuell</td>\n",
       "      <td>manuell</td>\n",
       "    </tr>\n",
       "    <tr>\n",
       "      <th>powerPS</th>\n",
       "      <td>0</td>\n",
       "      <td>190</td>\n",
       "      <td>163</td>\n",
       "      <td>75</td>\n",
       "      <td>69</td>\n",
       "    </tr>\n",
       "    <tr>\n",
       "      <th>model</th>\n",
       "      <td>golf</td>\n",
       "      <td>NaN</td>\n",
       "      <td>grand</td>\n",
       "      <td>golf</td>\n",
       "      <td>fabia</td>\n",
       "    </tr>\n",
       "    <tr>\n",
       "      <th>kilometer</th>\n",
       "      <td>150000</td>\n",
       "      <td>125000</td>\n",
       "      <td>125000</td>\n",
       "      <td>150000</td>\n",
       "      <td>90000</td>\n",
       "    </tr>\n",
       "    <tr>\n",
       "      <th>monthOfRegistration</th>\n",
       "      <td>0</td>\n",
       "      <td>5</td>\n",
       "      <td>8</td>\n",
       "      <td>6</td>\n",
       "      <td>7</td>\n",
       "    </tr>\n",
       "    <tr>\n",
       "      <th>fuelType</th>\n",
       "      <td>benzin</td>\n",
       "      <td>diesel</td>\n",
       "      <td>diesel</td>\n",
       "      <td>benzin</td>\n",
       "      <td>diesel</td>\n",
       "    </tr>\n",
       "    <tr>\n",
       "      <th>brand</th>\n",
       "      <td>volkswagen</td>\n",
       "      <td>audi</td>\n",
       "      <td>jeep</td>\n",
       "      <td>volkswagen</td>\n",
       "      <td>skoda</td>\n",
       "    </tr>\n",
       "    <tr>\n",
       "      <th>notRepairedDamage</th>\n",
       "      <td>NaN</td>\n",
       "      <td>ja</td>\n",
       "      <td>NaN</td>\n",
       "      <td>nein</td>\n",
       "      <td>nein</td>\n",
       "    </tr>\n",
       "    <tr>\n",
       "      <th>dateCreated</th>\n",
       "      <td>2016-03-24 00:00:00</td>\n",
       "      <td>2016-03-24 00:00:00</td>\n",
       "      <td>2016-03-14 00:00:00</td>\n",
       "      <td>2016-03-17 00:00:00</td>\n",
       "      <td>2016-03-31 00:00:00</td>\n",
       "    </tr>\n",
       "    <tr>\n",
       "      <th>nrOfPictures</th>\n",
       "      <td>0</td>\n",
       "      <td>0</td>\n",
       "      <td>0</td>\n",
       "      <td>0</td>\n",
       "      <td>0</td>\n",
       "    </tr>\n",
       "    <tr>\n",
       "      <th>postalCode</th>\n",
       "      <td>70435</td>\n",
       "      <td>66954</td>\n",
       "      <td>90480</td>\n",
       "      <td>91074</td>\n",
       "      <td>60437</td>\n",
       "    </tr>\n",
       "    <tr>\n",
       "      <th>lastSeen</th>\n",
       "      <td>2016-04-07 03:16:57</td>\n",
       "      <td>2016-04-07 01:46:50</td>\n",
       "      <td>2016-04-05 12:47:46</td>\n",
       "      <td>2016-03-17 17:40:17</td>\n",
       "      <td>2016-04-06 10:17:21</td>\n",
       "    </tr>\n",
       "  </tbody>\n",
       "</table>\n",
       "</div>"
      ],
      "text/plain": [
       "                                       0                     1  \\\n",
       "dateCrawled          2016-03-24 11:52:17   2016-03-24 10:58:45   \n",
       "name                          Golf_3_1.6  A5_Sportback_2.7_Tdi   \n",
       "seller                            privat                privat   \n",
       "offerType                        Angebot               Angebot   \n",
       "price                                480                 18300   \n",
       "abtest                              test                  test   \n",
       "vehicleType                          NaN                 coupe   \n",
       "yearOfRegistration                  1993                  2011   \n",
       "gearbox                          manuell               manuell   \n",
       "powerPS                                0                   190   \n",
       "model                               golf                   NaN   \n",
       "kilometer                         150000                125000   \n",
       "monthOfRegistration                    0                     5   \n",
       "fuelType                          benzin                diesel   \n",
       "brand                         volkswagen                  audi   \n",
       "notRepairedDamage                    NaN                    ja   \n",
       "dateCreated          2016-03-24 00:00:00   2016-03-24 00:00:00   \n",
       "nrOfPictures                           0                     0   \n",
       "postalCode                         70435                 66954   \n",
       "lastSeen             2016-04-07 03:16:57   2016-04-07 01:46:50   \n",
       "\n",
       "                                                  2                    3  \\\n",
       "dateCrawled                     2016-03-14 12:52:21  2016-03-17 16:54:04   \n",
       "name                 Jeep_Grand_Cherokee_\"Overland\"   GOLF_4_1_4__3TÜRER   \n",
       "seller                                       privat               privat   \n",
       "offerType                                   Angebot              Angebot   \n",
       "price                                          9800                 1500   \n",
       "abtest                                         test                 test   \n",
       "vehicleType                                     suv           kleinwagen   \n",
       "yearOfRegistration                             2004                 2001   \n",
       "gearbox                                   automatik              manuell   \n",
       "powerPS                                         163                   75   \n",
       "model                                         grand                 golf   \n",
       "kilometer                                    125000               150000   \n",
       "monthOfRegistration                               8                    6   \n",
       "fuelType                                     diesel               benzin   \n",
       "brand                                          jeep           volkswagen   \n",
       "notRepairedDamage                               NaN                 nein   \n",
       "dateCreated                     2016-03-14 00:00:00  2016-03-17 00:00:00   \n",
       "nrOfPictures                                      0                    0   \n",
       "postalCode                                    90480                91074   \n",
       "lastSeen                        2016-04-05 12:47:46  2016-03-17 17:40:17   \n",
       "\n",
       "                                                  4  \n",
       "dateCrawled                     2016-03-31 17:25:20  \n",
       "name                 Skoda_Fabia_1.4_TDI_PD_Classic  \n",
       "seller                                       privat  \n",
       "offerType                                   Angebot  \n",
       "price                                          3600  \n",
       "abtest                                         test  \n",
       "vehicleType                              kleinwagen  \n",
       "yearOfRegistration                             2008  \n",
       "gearbox                                     manuell  \n",
       "powerPS                                          69  \n",
       "model                                         fabia  \n",
       "kilometer                                     90000  \n",
       "monthOfRegistration                               7  \n",
       "fuelType                                     diesel  \n",
       "brand                                         skoda  \n",
       "notRepairedDamage                              nein  \n",
       "dateCreated                     2016-03-31 00:00:00  \n",
       "nrOfPictures                                      0  \n",
       "postalCode                                    60437  \n",
       "lastSeen                        2016-04-06 10:17:21  "
      ]
     },
     "execution_count": 2,
     "metadata": {},
     "output_type": "execute_result"
    }
   ],
   "source": [
    "cars_full = pd.read_csv(\"autos.csv\",encoding = \"ISO-8859-1\")\n",
    "cars_full.head().T"
   ]
  },
  {
   "cell_type": "code",
   "execution_count": 3,
   "metadata": {},
   "outputs": [
    {
     "data": {
      "text/html": [
       "<div>\n",
       "<style scoped>\n",
       "    .dataframe tbody tr th:only-of-type {\n",
       "        vertical-align: middle;\n",
       "    }\n",
       "\n",
       "    .dataframe tbody tr th {\n",
       "        vertical-align: top;\n",
       "    }\n",
       "\n",
       "    .dataframe thead th {\n",
       "        text-align: right;\n",
       "    }\n",
       "</style>\n",
       "<table border=\"1\" class=\"dataframe\">\n",
       "  <thead>\n",
       "    <tr style=\"text-align: right;\">\n",
       "      <th></th>\n",
       "      <th>price</th>\n",
       "      <th>yearOfRegistration</th>\n",
       "      <th>powerPS</th>\n",
       "      <th>kilometer</th>\n",
       "      <th>monthOfRegistration</th>\n",
       "      <th>nrOfPictures</th>\n",
       "      <th>postalCode</th>\n",
       "    </tr>\n",
       "  </thead>\n",
       "  <tbody>\n",
       "    <tr>\n",
       "      <th>count</th>\n",
       "      <td>3.715280e+05</td>\n",
       "      <td>371528.000000</td>\n",
       "      <td>371528.000000</td>\n",
       "      <td>371528.000000</td>\n",
       "      <td>371528.000000</td>\n",
       "      <td>371528.0</td>\n",
       "      <td>371528.00000</td>\n",
       "    </tr>\n",
       "    <tr>\n",
       "      <th>mean</th>\n",
       "      <td>1.729514e+04</td>\n",
       "      <td>2004.577997</td>\n",
       "      <td>115.549477</td>\n",
       "      <td>125618.688228</td>\n",
       "      <td>5.734445</td>\n",
       "      <td>0.0</td>\n",
       "      <td>50820.66764</td>\n",
       "    </tr>\n",
       "    <tr>\n",
       "      <th>std</th>\n",
       "      <td>3.587954e+06</td>\n",
       "      <td>92.866598</td>\n",
       "      <td>192.139578</td>\n",
       "      <td>40112.337051</td>\n",
       "      <td>3.712412</td>\n",
       "      <td>0.0</td>\n",
       "      <td>25799.08247</td>\n",
       "    </tr>\n",
       "    <tr>\n",
       "      <th>min</th>\n",
       "      <td>0.000000e+00</td>\n",
       "      <td>1000.000000</td>\n",
       "      <td>0.000000</td>\n",
       "      <td>5000.000000</td>\n",
       "      <td>0.000000</td>\n",
       "      <td>0.0</td>\n",
       "      <td>1067.00000</td>\n",
       "    </tr>\n",
       "    <tr>\n",
       "      <th>25%</th>\n",
       "      <td>1.150000e+03</td>\n",
       "      <td>1999.000000</td>\n",
       "      <td>70.000000</td>\n",
       "      <td>125000.000000</td>\n",
       "      <td>3.000000</td>\n",
       "      <td>0.0</td>\n",
       "      <td>30459.00000</td>\n",
       "    </tr>\n",
       "    <tr>\n",
       "      <th>50%</th>\n",
       "      <td>2.950000e+03</td>\n",
       "      <td>2003.000000</td>\n",
       "      <td>105.000000</td>\n",
       "      <td>150000.000000</td>\n",
       "      <td>6.000000</td>\n",
       "      <td>0.0</td>\n",
       "      <td>49610.00000</td>\n",
       "    </tr>\n",
       "    <tr>\n",
       "      <th>75%</th>\n",
       "      <td>7.200000e+03</td>\n",
       "      <td>2008.000000</td>\n",
       "      <td>150.000000</td>\n",
       "      <td>150000.000000</td>\n",
       "      <td>9.000000</td>\n",
       "      <td>0.0</td>\n",
       "      <td>71546.00000</td>\n",
       "    </tr>\n",
       "    <tr>\n",
       "      <th>max</th>\n",
       "      <td>2.147484e+09</td>\n",
       "      <td>9999.000000</td>\n",
       "      <td>20000.000000</td>\n",
       "      <td>150000.000000</td>\n",
       "      <td>12.000000</td>\n",
       "      <td>0.0</td>\n",
       "      <td>99998.00000</td>\n",
       "    </tr>\n",
       "  </tbody>\n",
       "</table>\n",
       "</div>"
      ],
      "text/plain": [
       "              price  yearOfRegistration        powerPS      kilometer  \\\n",
       "count  3.715280e+05       371528.000000  371528.000000  371528.000000   \n",
       "mean   1.729514e+04         2004.577997     115.549477  125618.688228   \n",
       "std    3.587954e+06           92.866598     192.139578   40112.337051   \n",
       "min    0.000000e+00         1000.000000       0.000000    5000.000000   \n",
       "25%    1.150000e+03         1999.000000      70.000000  125000.000000   \n",
       "50%    2.950000e+03         2003.000000     105.000000  150000.000000   \n",
       "75%    7.200000e+03         2008.000000     150.000000  150000.000000   \n",
       "max    2.147484e+09         9999.000000   20000.000000  150000.000000   \n",
       "\n",
       "       monthOfRegistration  nrOfPictures    postalCode  \n",
       "count        371528.000000      371528.0  371528.00000  \n",
       "mean              5.734445           0.0   50820.66764  \n",
       "std               3.712412           0.0   25799.08247  \n",
       "min               0.000000           0.0    1067.00000  \n",
       "25%               3.000000           0.0   30459.00000  \n",
       "50%               6.000000           0.0   49610.00000  \n",
       "75%               9.000000           0.0   71546.00000  \n",
       "max              12.000000           0.0   99998.00000  "
      ]
     },
     "execution_count": 3,
     "metadata": {},
     "output_type": "execute_result"
    }
   ],
   "source": [
    "cars_full.describe()"
   ]
  },
  {
   "cell_type": "code",
   "execution_count": 4,
   "metadata": {},
   "outputs": [
    {
     "data": {
      "image/png": "[encoded data removed]",
      "text/plain": [
       "<Figure size 432x288 with 1 Axes>"
      ]
     },
     "metadata": {
      "needs_background": "light"
     },
     "output_type": "display_data"
    }
   ],
   "source": [
    "plt.hist(cars_full.price,bins = 20)\n",
    "plt.xlabel(\"Price\")\n",
    "plt.ylabel(\"Count\")\n",
    "plt.title(\"Histogram of all car prices\")\n",
    "plt.show()"
   ]
  },
  {
   "cell_type": "markdown",
   "metadata": {},
   "source": [
    "## Initial Data cleaning\n",
    "\n",
    "- Reducing the data set by removing all cars with price >= 80,000 and with price = 0 to remove outliers\n",
    "- Dropping useless column (\"nrOfPictures\")\n",
    "- Translating some words from German to english"
   ]
  },
  {
   "cell_type": "code",
   "execution_count": 5,
   "metadata": {},
   "outputs": [
    {
     "name": "stdout",
     "output_type": "stream",
     "text": [
      "Total number of data entries: 371528.\n",
      "Total number of data entries without cars > $80,000: 360170.\n",
      "Number of data entries lost by removing those values: 11358.\n"
     ]
    }
   ],
   "source": [
    "#remove cases where price > $80000 and where price is < $0\n",
    "cars = cars_full[(cars_full[\"price\"] <= 80000) & (cars_full[\"price\"] > 0)]\n",
    "\n",
    "#dropping \"nrOfPictures\" column as it has no information\n",
    "cars = cars.drop([\"nrOfPictures\"], axis = 1)\n",
    "\n",
    "#german to english translations of some words\n",
    "cars = cars.replace({\"seller\": {\"privat\":\"private\",\"gewerblich\":\"commercial\"},\n",
    "                     \"offerType\":{\"Angebot\":\"Offer\",\"Gesuch\":\"Request\"},\n",
    "                     \"vehicleType\":{\"kleinwagen\":\"small_car\",\"cabrio\":\"convertible\",\"kombi\":\"station_wagon\",\"andere\":\"other\"},\n",
    "                    \"gearbox\":{\"manuell\":\"manual\",\"automatik\":\"automatic\"},\n",
    "                    \"fuelType\":{\"benzin\":\"petrol\",\"andere\":\"other\",\"elektro\":\"electronic\"},\n",
    "                    \"notRepairedDamage\":{\"ja\":\"yes\", \"nein\":\"no\"}})\n",
    "\n",
    "\n",
    "\n",
    "print(\"Total number of data entries: {}.\".format(len(cars_full)))\n",
    "print(\"Total number of data entries without cars > $80,000: {}.\".format(len(cars)))\n",
    "print(\"Number of data entries lost by removing those values: {}.\".format(len(cars_full)-len(cars)))"
   ]
  },
  {
   "cell_type": "markdown",
   "metadata": {},
   "source": [
    "Histogram of price after removal of outliers"
   ]
  },
  {
   "cell_type": "code",
   "execution_count": 6,
   "metadata": {},
   "outputs": [
    {
     "data": {
      "image/png": "[encoded data removed]",
      "text/plain": [
       "<Figure size 432x288 with 1 Axes>"
      ]
     },
     "metadata": {
      "needs_background": "light"
     },
     "output_type": "display_data"
    }
   ],
   "source": [
    "plt.hist(cars.price,bins = 20)\n",
    "plt.xlabel(\"Price\")\n",
    "plt.ylabel(\"Count\")\n",
    "plt.title(\"Histogram of car prices <= $80,000\")\n",
    "plt.tight_layout()\n",
    "plt.show()"
   ]
  },
  {
   "cell_type": "markdown",
   "metadata": {},
   "source": [
    "Count of the values in different categories"
   ]
  },
  {
   "cell_type": "code",
   "execution_count": 7,
   "metadata": {},
   "outputs": [
    {
     "name": "stdout",
     "output_type": "stream",
     "text": [
      "dict_keys(['Offer', 'Request'])\n",
      "dict_values([360164, 6])\n",
      " \n",
      "dict_keys(['private', 'commercial'])\n",
      "dict_values([360167, 3])\n",
      " \n",
      "dict_keys([nan, 'coupe', 'suv', 'small_car', 'limousine', 'convertible', 'bus', 'station_wagon', 'other'])\n",
      "dict_values([34077, 18251, 14475, 78200, 93793, 22381, 29760, 66085, 3148])\n",
      " \n",
      "dict_keys(['manual', 'automatic', nan])\n",
      "dict_values([267060, 75463, 17647])\n",
      " \n",
      "dict_keys(['petrol', 'diesel', nan, 'lpg', 'other', 'hybrid', 'cng', 'electronic'])\n",
      "dict_values([217825, 106159, 29859, 5233, 172, 269, 560, 93])\n",
      " \n",
      "dict_keys([nan, 'yes', 'no'])\n",
      "dict_values([66696, 34264, 259210])\n"
     ]
    }
   ],
   "source": [
    "from collections import Counter\n",
    "\n",
    "\n",
    "print(Counter(cars[\"offerType\"]).keys())\n",
    "print(Counter(cars[\"offerType\"]).values())\n",
    "\n",
    "print(' ')\n",
    "\n",
    "print(Counter(cars[\"seller\"]).keys())\n",
    "print(Counter(cars[\"seller\"]).values())\n",
    "print(' ')\n",
    "\n",
    "print(Counter(cars[\"vehicleType\"]).keys())\n",
    "print(Counter(cars[\"vehicleType\"]).values())\n",
    "print(' ')\n",
    "\n",
    "print(Counter(cars[\"gearbox\"]).keys())\n",
    "print(Counter(cars[\"gearbox\"]).values())\n",
    "print(' ')\n",
    "\n",
    "print(Counter(cars[\"fuelType\"]).keys())\n",
    "print(Counter(cars[\"fuelType\"]).values())\n",
    "print(' ')\n",
    "\n",
    "print(Counter(cars[\"notRepairedDamage\"]).keys())\n",
    "print(Counter(cars[\"notRepairedDamage\"]).values())\n"
   ]
  },
  {
   "cell_type": "markdown",
   "metadata": {},
   "source": [
    "Analysis of type of vehicle data"
   ]
  },
  {
   "cell_type": "code",
   "execution_count": 8,
   "metadata": {},
   "outputs": [
    {
     "data": {
      "image/png": "[encoded data removed]",
      "text/plain": [
       "<Figure size 792x432 with 1 Axes>"
      ]
     },
     "metadata": {
      "needs_background": "light"
     },
     "output_type": "display_data"
    },
    {
     "data": {
      "image/png": "[encoded data removed]",
      "text/plain": [
       "<Figure size 792x432 with 1 Axes>"
      ]
     },
     "metadata": {
      "needs_background": "light"
     },
     "output_type": "display_data"
    }
   ],
   "source": [
    "#Group by vehicle type to see average price of each vehicle\n",
    "price_of_cars = cars.groupby([\"vehicleType\"])[\"price\"].mean().reset_index()\n",
    "\n",
    "#Group to find the number of each vehicle\n",
    "type_of_cars = cars.groupby([\"vehicleType\"])[\"name\"].nunique().reset_index()\n",
    "\n",
    "figure(num = None, figsize = (11,6))\n",
    "plt.bar(\"vehicleType\", \"price\", data = price_of_cars)\n",
    "plt.ylabel(\"Price\")\n",
    "plt.title(\"Average price of each vehicle type\")\n",
    "plt.show()\n",
    "\n",
    "type_of_cars.columns = [\"Type of Vehicle\", \"Count\"]\n",
    "figure(num = None, figsize = (11,6))\n",
    "plt.bar(\"Type of Vehicle\", \"Count\", data = type_of_cars)\n",
    "plt.ylabel(\"Count\")\n",
    "plt.title(\"Count of each vehicle type\")\n",
    "plt.show()"
   ]
  },
  {
   "cell_type": "markdown",
   "metadata": {},
   "source": [
    "### Part 2: Changing the data to prepare for modelling"
   ]
  },
  {
   "cell_type": "code",
   "execution_count": 9,
   "metadata": {},
   "outputs": [
    {
     "name": "stdout",
     "output_type": "stream",
     "text": [
      "Index(['dateCrawled', 'name', 'seller', 'offerType', 'price', 'abtest',\n",
      "       'vehicleType', 'yearOfRegistration', 'gearbox', 'powerPS', 'model',\n",
      "       'kilometer', 'monthOfRegistration', 'fuelType', 'brand',\n",
      "       'notRepairedDamage', 'dateCreated', 'postalCode', 'lastSeen'],\n",
      "      dtype='object')\n"
     ]
    },
    {
     "data": {
      "text/html": [
       "<div>\n",
       "<style scoped>\n",
       "    .dataframe tbody tr th:only-of-type {\n",
       "        vertical-align: middle;\n",
       "    }\n",
       "\n",
       "    .dataframe tbody tr th {\n",
       "        vertical-align: top;\n",
       "    }\n",
       "\n",
       "    .dataframe thead th {\n",
       "        text-align: right;\n",
       "    }\n",
       "</style>\n",
       "<table border=\"1\" class=\"dataframe\">\n",
       "  <thead>\n",
       "    <tr style=\"text-align: right;\">\n",
       "      <th></th>\n",
       "      <th>dateCrawled</th>\n",
       "      <th>name</th>\n",
       "      <th>seller</th>\n",
       "      <th>offerType</th>\n",
       "      <th>price</th>\n",
       "      <th>abtest</th>\n",
       "      <th>vehicleType</th>\n",
       "      <th>yearOfRegistration</th>\n",
       "      <th>gearbox</th>\n",
       "      <th>powerPS</th>\n",
       "      <th>model</th>\n",
       "      <th>kilometer</th>\n",
       "      <th>monthOfRegistration</th>\n",
       "      <th>fuelType</th>\n",
       "      <th>brand</th>\n",
       "      <th>notRepairedDamage</th>\n",
       "      <th>dateCreated</th>\n",
       "      <th>postalCode</th>\n",
       "      <th>lastSeen</th>\n",
       "    </tr>\n",
       "  </thead>\n",
       "  <tbody>\n",
       "    <tr>\n",
       "      <th>0</th>\n",
       "      <td>2016-03-24 11:52:17</td>\n",
       "      <td>Golf_3_1.6</td>\n",
       "      <td>private</td>\n",
       "      <td>Offer</td>\n",
       "      <td>480</td>\n",
       "      <td>test</td>\n",
       "      <td>NaN</td>\n",
       "      <td>1993</td>\n",
       "      <td>manual</td>\n",
       "      <td>0</td>\n",
       "      <td>golf</td>\n",
       "      <td>150000</td>\n",
       "      <td>0</td>\n",
       "      <td>petrol</td>\n",
       "      <td>volkswagen</td>\n",
       "      <td>NaN</td>\n",
       "      <td>2016-03-24 00:00:00</td>\n",
       "      <td>70435</td>\n",
       "      <td>2016-04-07 03:16:57</td>\n",
       "    </tr>\n",
       "    <tr>\n",
       "      <th>1</th>\n",
       "      <td>2016-03-24 10:58:45</td>\n",
       "      <td>A5_Sportback_2.7_Tdi</td>\n",
       "      <td>private</td>\n",
       "      <td>Offer</td>\n",
       "      <td>18300</td>\n",
       "      <td>test</td>\n",
       "      <td>coupe</td>\n",
       "      <td>2011</td>\n",
       "      <td>manual</td>\n",
       "      <td>190</td>\n",
       "      <td>NaN</td>\n",
       "      <td>125000</td>\n",
       "      <td>5</td>\n",
       "      <td>diesel</td>\n",
       "      <td>audi</td>\n",
       "      <td>yes</td>\n",
       "      <td>2016-03-24 00:00:00</td>\n",
       "      <td>66954</td>\n",
       "      <td>2016-04-07 01:46:50</td>\n",
       "    </tr>\n",
       "    <tr>\n",
       "      <th>2</th>\n",
       "      <td>2016-03-14 12:52:21</td>\n",
       "      <td>Jeep_Grand_Cherokee_\"Overland\"</td>\n",
       "      <td>private</td>\n",
       "      <td>Offer</td>\n",
       "      <td>9800</td>\n",
       "      <td>test</td>\n",
       "      <td>suv</td>\n",
       "      <td>2004</td>\n",
       "      <td>automatic</td>\n",
       "      <td>163</td>\n",
       "      <td>grand</td>\n",
       "      <td>125000</td>\n",
       "      <td>8</td>\n",
       "      <td>diesel</td>\n",
       "      <td>jeep</td>\n",
       "      <td>NaN</td>\n",
       "      <td>2016-03-14 00:00:00</td>\n",
       "      <td>90480</td>\n",
       "      <td>2016-04-05 12:47:46</td>\n",
       "    </tr>\n",
       "    <tr>\n",
       "      <th>3</th>\n",
       "      <td>2016-03-17 16:54:04</td>\n",
       "      <td>GOLF_4_1_4__3TÜRER</td>\n",
       "      <td>private</td>\n",
       "      <td>Offer</td>\n",
       "      <td>1500</td>\n",
       "      <td>test</td>\n",
       "      <td>small_car</td>\n",
       "      <td>2001</td>\n",
       "      <td>manual</td>\n",
       "      <td>75</td>\n",
       "      <td>golf</td>\n",
       "      <td>150000</td>\n",
       "      <td>6</td>\n",
       "      <td>petrol</td>\n",
       "      <td>volkswagen</td>\n",
       "      <td>no</td>\n",
       "      <td>2016-03-17 00:00:00</td>\n",
       "      <td>91074</td>\n",
       "      <td>2016-03-17 17:40:17</td>\n",
       "    </tr>\n",
       "    <tr>\n",
       "      <th>4</th>\n",
       "      <td>2016-03-31 17:25:20</td>\n",
       "      <td>Skoda_Fabia_1.4_TDI_PD_Classic</td>\n",
       "      <td>private</td>\n",
       "      <td>Offer</td>\n",
       "      <td>3600</td>\n",
       "      <td>test</td>\n",
       "      <td>small_car</td>\n",
       "      <td>2008</td>\n",
       "      <td>manual</td>\n",
       "      <td>69</td>\n",
       "      <td>fabia</td>\n",
       "      <td>90000</td>\n",
       "      <td>7</td>\n",
       "      <td>diesel</td>\n",
       "      <td>skoda</td>\n",
       "      <td>no</td>\n",
       "      <td>2016-03-31 00:00:00</td>\n",
       "      <td>60437</td>\n",
       "      <td>2016-04-06 10:17:21</td>\n",
       "    </tr>\n",
       "  </tbody>\n",
       "</table>\n",
       "</div>"
      ],
      "text/plain": [
       "           dateCrawled                            name   seller offerType  \\\n",
       "0  2016-03-24 11:52:17                      Golf_3_1.6  private     Offer   \n",
       "1  2016-03-24 10:58:45            A5_Sportback_2.7_Tdi  private     Offer   \n",
       "2  2016-03-14 12:52:21  Jeep_Grand_Cherokee_\"Overland\"  private     Offer   \n",
       "3  2016-03-17 16:54:04              GOLF_4_1_4__3TÜRER  private     Offer   \n",
       "4  2016-03-31 17:25:20  Skoda_Fabia_1.4_TDI_PD_Classic  private     Offer   \n",
       "\n",
       "   price abtest vehicleType  yearOfRegistration    gearbox  powerPS  model  \\\n",
       "0    480   test         NaN                1993     manual        0   golf   \n",
       "1  18300   test       coupe                2011     manual      190    NaN   \n",
       "2   9800   test         suv                2004  automatic      163  grand   \n",
       "3   1500   test   small_car                2001     manual       75   golf   \n",
       "4   3600   test   small_car                2008     manual       69  fabia   \n",
       "\n",
       "   kilometer  monthOfRegistration fuelType       brand notRepairedDamage  \\\n",
       "0     150000                    0   petrol  volkswagen               NaN   \n",
       "1     125000                    5   diesel        audi               yes   \n",
       "2     125000                    8   diesel        jeep               NaN   \n",
       "3     150000                    6   petrol  volkswagen                no   \n",
       "4      90000                    7   diesel       skoda                no   \n",
       "\n",
       "           dateCreated  postalCode             lastSeen  \n",
       "0  2016-03-24 00:00:00       70435  2016-04-07 03:16:57  \n",
       "1  2016-03-24 00:00:00       66954  2016-04-07 01:46:50  \n",
       "2  2016-03-14 00:00:00       90480  2016-04-05 12:47:46  \n",
       "3  2016-03-17 00:00:00       91074  2016-03-17 17:40:17  \n",
       "4  2016-03-31 00:00:00       60437  2016-04-06 10:17:21  "
      ]
     },
     "execution_count": 9,
     "metadata": {},
     "output_type": "execute_result"
    }
   ],
   "source": [
    "data = cars\n",
    "\n",
    "print(data.columns)\n",
    "data.head()"
   ]
  },
  {
   "cell_type": "markdown",
   "metadata": {},
   "source": [
    "### Further datacleaning and preprocessing"
   ]
  },
  {
   "cell_type": "code",
   "execution_count": 10,
   "metadata": {},
   "outputs": [
    {
     "data": {
      "text/plain": [
       "no     259210\n",
       "yes     34264\n",
       "Name: notRepairedDamage, dtype: int64"
      ]
     },
     "execution_count": 10,
     "metadata": {},
     "output_type": "execute_result"
    }
   ],
   "source": [
    "data.notRepairedDamage.value_counts()"
   ]
  },
  {
   "cell_type": "code",
   "execution_count": 11,
   "metadata": {},
   "outputs": [
    {
     "data": {
      "text/html": [
       "<div>\n",
       "<style scoped>\n",
       "    .dataframe tbody tr th:only-of-type {\n",
       "        vertical-align: middle;\n",
       "    }\n",
       "\n",
       "    .dataframe tbody tr th {\n",
       "        vertical-align: top;\n",
       "    }\n",
       "\n",
       "    .dataframe thead th {\n",
       "        text-align: right;\n",
       "    }\n",
       "</style>\n",
       "<table border=\"1\" class=\"dataframe\">\n",
       "  <thead>\n",
       "    <tr style=\"text-align: right;\">\n",
       "      <th></th>\n",
       "      <th>price</th>\n",
       "      <th>vehicleType</th>\n",
       "      <th>yearOfRegistration</th>\n",
       "      <th>gearbox</th>\n",
       "      <th>powerPS</th>\n",
       "      <th>model</th>\n",
       "      <th>kilometer</th>\n",
       "      <th>monthOfRegistration</th>\n",
       "      <th>fuelType</th>\n",
       "      <th>brand</th>\n",
       "      <th>notRepairedDamage</th>\n",
       "      <th>dateCreated</th>\n",
       "    </tr>\n",
       "  </thead>\n",
       "  <tbody>\n",
       "    <tr>\n",
       "      <th>0</th>\n",
       "      <td>480</td>\n",
       "      <td>NaN</td>\n",
       "      <td>1993</td>\n",
       "      <td>manual</td>\n",
       "      <td>0</td>\n",
       "      <td>golf</td>\n",
       "      <td>150000</td>\n",
       "      <td>0</td>\n",
       "      <td>petrol</td>\n",
       "      <td>volkswagen</td>\n",
       "      <td>NaN</td>\n",
       "      <td>2016-03-24 00:00:00</td>\n",
       "    </tr>\n",
       "    <tr>\n",
       "      <th>1</th>\n",
       "      <td>18300</td>\n",
       "      <td>coupe</td>\n",
       "      <td>2011</td>\n",
       "      <td>manual</td>\n",
       "      <td>190</td>\n",
       "      <td>NaN</td>\n",
       "      <td>125000</td>\n",
       "      <td>5</td>\n",
       "      <td>diesel</td>\n",
       "      <td>audi</td>\n",
       "      <td>yes</td>\n",
       "      <td>2016-03-24 00:00:00</td>\n",
       "    </tr>\n",
       "    <tr>\n",
       "      <th>2</th>\n",
       "      <td>9800</td>\n",
       "      <td>suv</td>\n",
       "      <td>2004</td>\n",
       "      <td>automatic</td>\n",
       "      <td>163</td>\n",
       "      <td>grand</td>\n",
       "      <td>125000</td>\n",
       "      <td>8</td>\n",
       "      <td>diesel</td>\n",
       "      <td>jeep</td>\n",
       "      <td>NaN</td>\n",
       "      <td>2016-03-14 00:00:00</td>\n",
       "    </tr>\n",
       "    <tr>\n",
       "      <th>3</th>\n",
       "      <td>1500</td>\n",
       "      <td>small_car</td>\n",
       "      <td>2001</td>\n",
       "      <td>manual</td>\n",
       "      <td>75</td>\n",
       "      <td>golf</td>\n",
       "      <td>150000</td>\n",
       "      <td>6</td>\n",
       "      <td>petrol</td>\n",
       "      <td>volkswagen</td>\n",
       "      <td>no</td>\n",
       "      <td>2016-03-17 00:00:00</td>\n",
       "    </tr>\n",
       "    <tr>\n",
       "      <th>4</th>\n",
       "      <td>3600</td>\n",
       "      <td>small_car</td>\n",
       "      <td>2008</td>\n",
       "      <td>manual</td>\n",
       "      <td>69</td>\n",
       "      <td>fabia</td>\n",
       "      <td>90000</td>\n",
       "      <td>7</td>\n",
       "      <td>diesel</td>\n",
       "      <td>skoda</td>\n",
       "      <td>no</td>\n",
       "      <td>2016-03-31 00:00:00</td>\n",
       "    </tr>\n",
       "  </tbody>\n",
       "</table>\n",
       "</div>"
      ],
      "text/plain": [
       "   price vehicleType  yearOfRegistration    gearbox  powerPS  model  \\\n",
       "0    480         NaN                1993     manual        0   golf   \n",
       "1  18300       coupe                2011     manual      190    NaN   \n",
       "2   9800         suv                2004  automatic      163  grand   \n",
       "3   1500   small_car                2001     manual       75   golf   \n",
       "4   3600   small_car                2008     manual       69  fabia   \n",
       "\n",
       "   kilometer  monthOfRegistration fuelType       brand notRepairedDamage  \\\n",
       "0     150000                    0   petrol  volkswagen               NaN   \n",
       "1     125000                    5   diesel        audi               yes   \n",
       "2     125000                    8   diesel        jeep               NaN   \n",
       "3     150000                    6   petrol  volkswagen                no   \n",
       "4      90000                    7   diesel       skoda                no   \n",
       "\n",
       "           dateCreated  \n",
       "0  2016-03-24 00:00:00  \n",
       "1  2016-03-24 00:00:00  \n",
       "2  2016-03-14 00:00:00  \n",
       "3  2016-03-17 00:00:00  \n",
       "4  2016-03-31 00:00:00  "
      ]
     },
     "execution_count": 11,
     "metadata": {},
     "output_type": "execute_result"
    }
   ],
   "source": [
    "#All these columns are useless for the modelling aspect of the project\n",
    "\n",
    "data.drop([\"dateCrawled\",\"name\",\"seller\",\"offerType\",\"postalCode\", \"lastSeen\",\"abtest\"], axis = 1,inplace = True)\n",
    "\n",
    "\n",
    "data.head()"
   ]
  },
  {
   "cell_type": "code",
   "execution_count": 12,
   "metadata": {},
   "outputs": [
    {
     "data": {
      "text/plain": [
       "price                           int64\n",
       "vehicleType                    object\n",
       "yearOfRegistration              int64\n",
       "gearbox                        object\n",
       "powerPS                         int64\n",
       "model                          object\n",
       "kilometer                       int64\n",
       "monthOfRegistration             int64\n",
       "fuelType                       object\n",
       "brand                          object\n",
       "notRepairedDamage              object\n",
       "dateCreated            datetime64[ns]\n",
       "dtype: object"
      ]
     },
     "execution_count": 12,
     "metadata": {},
     "output_type": "execute_result"
    }
   ],
   "source": [
    "#Change the data column to a datetime object\n",
    "data.dateCreated = pd.to_datetime(data[\"dateCreated\"])\n",
    "data.dtypes"
   ]
  },
  {
   "cell_type": "markdown",
   "metadata": {},
   "source": [
    "Creating a new column in the dataframe describing car age when sold"
   ]
  },
  {
   "cell_type": "code",
   "execution_count": 13,
   "metadata": {},
   "outputs": [
    {
     "data": {
      "text/html": [
       "<div>\n",
       "<style scoped>\n",
       "    .dataframe tbody tr th:only-of-type {\n",
       "        vertical-align: middle;\n",
       "    }\n",
       "\n",
       "    .dataframe tbody tr th {\n",
       "        vertical-align: top;\n",
       "    }\n",
       "\n",
       "    .dataframe thead th {\n",
       "        text-align: right;\n",
       "    }\n",
       "</style>\n",
       "<table border=\"1\" class=\"dataframe\">\n",
       "  <thead>\n",
       "    <tr style=\"text-align: right;\">\n",
       "      <th></th>\n",
       "      <th>price</th>\n",
       "      <th>vehicleType</th>\n",
       "      <th>gearbox</th>\n",
       "      <th>powerPS</th>\n",
       "      <th>model</th>\n",
       "      <th>kilometer</th>\n",
       "      <th>monthOfRegistration</th>\n",
       "      <th>fuelType</th>\n",
       "      <th>brand</th>\n",
       "      <th>notRepairedDamage</th>\n",
       "      <th>year_created</th>\n",
       "      <th>car_age</th>\n",
       "    </tr>\n",
       "  </thead>\n",
       "  <tbody>\n",
       "    <tr>\n",
       "      <th>0</th>\n",
       "      <td>480</td>\n",
       "      <td>NaN</td>\n",
       "      <td>manual</td>\n",
       "      <td>0</td>\n",
       "      <td>golf</td>\n",
       "      <td>150000</td>\n",
       "      <td>0</td>\n",
       "      <td>petrol</td>\n",
       "      <td>volkswagen</td>\n",
       "      <td>NaN</td>\n",
       "      <td>2016</td>\n",
       "      <td>23</td>\n",
       "    </tr>\n",
       "    <tr>\n",
       "      <th>1</th>\n",
       "      <td>18300</td>\n",
       "      <td>coupe</td>\n",
       "      <td>manual</td>\n",
       "      <td>190</td>\n",
       "      <td>NaN</td>\n",
       "      <td>125000</td>\n",
       "      <td>5</td>\n",
       "      <td>diesel</td>\n",
       "      <td>audi</td>\n",
       "      <td>yes</td>\n",
       "      <td>2016</td>\n",
       "      <td>5</td>\n",
       "    </tr>\n",
       "    <tr>\n",
       "      <th>2</th>\n",
       "      <td>9800</td>\n",
       "      <td>suv</td>\n",
       "      <td>automatic</td>\n",
       "      <td>163</td>\n",
       "      <td>grand</td>\n",
       "      <td>125000</td>\n",
       "      <td>8</td>\n",
       "      <td>diesel</td>\n",
       "      <td>jeep</td>\n",
       "      <td>NaN</td>\n",
       "      <td>2016</td>\n",
       "      <td>12</td>\n",
       "    </tr>\n",
       "    <tr>\n",
       "      <th>3</th>\n",
       "      <td>1500</td>\n",
       "      <td>small_car</td>\n",
       "      <td>manual</td>\n",
       "      <td>75</td>\n",
       "      <td>golf</td>\n",
       "      <td>150000</td>\n",
       "      <td>6</td>\n",
       "      <td>petrol</td>\n",
       "      <td>volkswagen</td>\n",
       "      <td>no</td>\n",
       "      <td>2016</td>\n",
       "      <td>15</td>\n",
       "    </tr>\n",
       "    <tr>\n",
       "      <th>4</th>\n",
       "      <td>3600</td>\n",
       "      <td>small_car</td>\n",
       "      <td>manual</td>\n",
       "      <td>69</td>\n",
       "      <td>fabia</td>\n",
       "      <td>90000</td>\n",
       "      <td>7</td>\n",
       "      <td>diesel</td>\n",
       "      <td>skoda</td>\n",
       "      <td>no</td>\n",
       "      <td>2016</td>\n",
       "      <td>8</td>\n",
       "    </tr>\n",
       "  </tbody>\n",
       "</table>\n",
       "</div>"
      ],
      "text/plain": [
       "   price vehicleType    gearbox  powerPS  model  kilometer  \\\n",
       "0    480         NaN     manual        0   golf     150000   \n",
       "1  18300       coupe     manual      190    NaN     125000   \n",
       "2   9800         suv  automatic      163  grand     125000   \n",
       "3   1500   small_car     manual       75   golf     150000   \n",
       "4   3600   small_car     manual       69  fabia      90000   \n",
       "\n",
       "   monthOfRegistration fuelType       brand notRepairedDamage  year_created  \\\n",
       "0                    0   petrol  volkswagen               NaN          2016   \n",
       "1                    5   diesel        audi               yes          2016   \n",
       "2                    8   diesel        jeep               NaN          2016   \n",
       "3                    6   petrol  volkswagen                no          2016   \n",
       "4                    7   diesel       skoda                no          2016   \n",
       "\n",
       "   car_age  \n",
       "0       23  \n",
       "1        5  \n",
       "2       12  \n",
       "3       15  \n",
       "4        8  "
      ]
     },
     "execution_count": 13,
     "metadata": {},
     "output_type": "execute_result"
    }
   ],
   "source": [
    "data[\"year_created\"] = pd.DatetimeIndex(data[\"dateCreated\"]).year\n",
    "\n",
    "data[\"car_age\"] = data[\"year_created\"] - data[\"yearOfRegistration\"]\n",
    "\n",
    "data.drop([\"dateCreated\",\"yearOfRegistration\"], axis = 1, inplace = True)\n",
    "data.head()"
   ]
  },
  {
   "cell_type": "markdown",
   "metadata": {},
   "source": [
    "Check for missing values\n",
    "\n",
    "Then drop all rows with missing values as it is a small percentage of the total and imputation is not an option for these categorical variables."
   ]
  },
  {
   "cell_type": "code",
   "execution_count": 14,
   "metadata": {},
   "outputs": [
    {
     "name": "stdout",
     "output_type": "stream",
     "text": [
      "(360170, 12)\n",
      "price                      0\n",
      "vehicleType            34077\n",
      "gearbox                17647\n",
      "powerPS                    0\n",
      "model                  18149\n",
      "kilometer                  0\n",
      "monthOfRegistration        0\n",
      "fuelType               29859\n",
      "brand                      0\n",
      "notRepairedDamage      66696\n",
      "year_created               0\n",
      "car_age                    0\n",
      "dtype: int64\n",
      "All missing data is coming from categorical data so imputing the missing values is not an appropriate option. So we remove all na values.\n",
      "price                  0\n",
      "vehicleType            0\n",
      "gearbox                0\n",
      "powerPS                0\n",
      "model                  0\n",
      "kilometer              0\n",
      "monthOfRegistration    0\n",
      "fuelType               0\n",
      "brand                  0\n",
      "notRepairedDamage      0\n",
      "year_created           0\n",
      "car_age                0\n",
      "dtype: int64\n"
     ]
    },
    {
     "data": {
      "text/html": [
       "<div>\n",
       "<style scoped>\n",
       "    .dataframe tbody tr th:only-of-type {\n",
       "        vertical-align: middle;\n",
       "    }\n",
       "\n",
       "    .dataframe tbody tr th {\n",
       "        vertical-align: top;\n",
       "    }\n",
       "\n",
       "    .dataframe thead th {\n",
       "        text-align: right;\n",
       "    }\n",
       "</style>\n",
       "<table border=\"1\" class=\"dataframe\">\n",
       "  <thead>\n",
       "    <tr style=\"text-align: right;\">\n",
       "      <th></th>\n",
       "      <th>price</th>\n",
       "      <th>vehicleType</th>\n",
       "      <th>gearbox</th>\n",
       "      <th>powerPS</th>\n",
       "      <th>model</th>\n",
       "      <th>kilometer</th>\n",
       "      <th>monthOfRegistration</th>\n",
       "      <th>fuelType</th>\n",
       "      <th>brand</th>\n",
       "      <th>notRepairedDamage</th>\n",
       "      <th>year_created</th>\n",
       "      <th>car_age</th>\n",
       "    </tr>\n",
       "  </thead>\n",
       "  <tbody>\n",
       "    <tr>\n",
       "      <th>3</th>\n",
       "      <td>1500</td>\n",
       "      <td>small_car</td>\n",
       "      <td>manual</td>\n",
       "      <td>75</td>\n",
       "      <td>golf</td>\n",
       "      <td>150000</td>\n",
       "      <td>6</td>\n",
       "      <td>petrol</td>\n",
       "      <td>volkswagen</td>\n",
       "      <td>no</td>\n",
       "      <td>2016</td>\n",
       "      <td>15</td>\n",
       "    </tr>\n",
       "    <tr>\n",
       "      <th>4</th>\n",
       "      <td>3600</td>\n",
       "      <td>small_car</td>\n",
       "      <td>manual</td>\n",
       "      <td>69</td>\n",
       "      <td>fabia</td>\n",
       "      <td>90000</td>\n",
       "      <td>7</td>\n",
       "      <td>diesel</td>\n",
       "      <td>skoda</td>\n",
       "      <td>no</td>\n",
       "      <td>2016</td>\n",
       "      <td>8</td>\n",
       "    </tr>\n",
       "    <tr>\n",
       "      <th>5</th>\n",
       "      <td>650</td>\n",
       "      <td>limousine</td>\n",
       "      <td>manual</td>\n",
       "      <td>102</td>\n",
       "      <td>3er</td>\n",
       "      <td>150000</td>\n",
       "      <td>10</td>\n",
       "      <td>petrol</td>\n",
       "      <td>bmw</td>\n",
       "      <td>yes</td>\n",
       "      <td>2016</td>\n",
       "      <td>21</td>\n",
       "    </tr>\n",
       "    <tr>\n",
       "      <th>6</th>\n",
       "      <td>2200</td>\n",
       "      <td>convertible</td>\n",
       "      <td>manual</td>\n",
       "      <td>109</td>\n",
       "      <td>2_reihe</td>\n",
       "      <td>150000</td>\n",
       "      <td>8</td>\n",
       "      <td>petrol</td>\n",
       "      <td>peugeot</td>\n",
       "      <td>no</td>\n",
       "      <td>2016</td>\n",
       "      <td>12</td>\n",
       "    </tr>\n",
       "    <tr>\n",
       "      <th>10</th>\n",
       "      <td>2000</td>\n",
       "      <td>limousine</td>\n",
       "      <td>manual</td>\n",
       "      <td>105</td>\n",
       "      <td>3_reihe</td>\n",
       "      <td>150000</td>\n",
       "      <td>12</td>\n",
       "      <td>petrol</td>\n",
       "      <td>mazda</td>\n",
       "      <td>no</td>\n",
       "      <td>2016</td>\n",
       "      <td>12</td>\n",
       "    </tr>\n",
       "  </tbody>\n",
       "</table>\n",
       "</div>"
      ],
      "text/plain": [
       "    price  vehicleType gearbox  powerPS    model  kilometer  \\\n",
       "3    1500    small_car  manual       75     golf     150000   \n",
       "4    3600    small_car  manual       69    fabia      90000   \n",
       "5     650    limousine  manual      102      3er     150000   \n",
       "6    2200  convertible  manual      109  2_reihe     150000   \n",
       "10   2000    limousine  manual      105  3_reihe     150000   \n",
       "\n",
       "    monthOfRegistration fuelType       brand notRepairedDamage  year_created  \\\n",
       "3                     6   petrol  volkswagen                no          2016   \n",
       "4                     7   diesel       skoda                no          2016   \n",
       "5                    10   petrol         bmw               yes          2016   \n",
       "6                     8   petrol     peugeot                no          2016   \n",
       "10                   12   petrol       mazda                no          2016   \n",
       "\n",
       "    car_age  \n",
       "3        15  \n",
       "4         8  \n",
       "5        21  \n",
       "6        12  \n",
       "10       12  "
      ]
     },
     "execution_count": 14,
     "metadata": {},
     "output_type": "execute_result"
    }
   ],
   "source": [
    "print(data.shape)\n",
    "print(data.isna().sum())\n",
    "print(\"All missing data is coming from categorical data so imputing the missing values is not an appropriate option. So we remove all na values.\")\n",
    "data.dropna(inplace=True)\n",
    "print(data.isna().sum())\n",
    "data.head()"
   ]
  },
  {
   "cell_type": "markdown",
   "metadata": {},
   "source": [
    "Data is now cleaned however we need to change string data to numerical"
   ]
  },
  {
   "cell_type": "code",
   "execution_count": 15,
   "metadata": {},
   "outputs": [],
   "source": [
    "data[\"vehicleType\"] = data[\"vehicleType\"].astype('category') #Change vehicle type to categorical"
   ]
  },
  {
   "cell_type": "code",
   "execution_count": 16,
   "metadata": {},
   "outputs": [
    {
     "data": {
      "text/html": [
       "<div>\n",
       "<style scoped>\n",
       "    .dataframe tbody tr th:only-of-type {\n",
       "        vertical-align: middle;\n",
       "    }\n",
       "\n",
       "    .dataframe tbody tr th {\n",
       "        vertical-align: top;\n",
       "    }\n",
       "\n",
       "    .dataframe thead th {\n",
       "        text-align: right;\n",
       "    }\n",
       "</style>\n",
       "<table border=\"1\" class=\"dataframe\">\n",
       "  <thead>\n",
       "    <tr style=\"text-align: right;\">\n",
       "      <th></th>\n",
       "      <th>price</th>\n",
       "      <th>vehicleType</th>\n",
       "      <th>gearbox</th>\n",
       "      <th>powerPS</th>\n",
       "      <th>model</th>\n",
       "      <th>kilometer</th>\n",
       "      <th>monthOfRegistration</th>\n",
       "      <th>fuelType</th>\n",
       "      <th>brand</th>\n",
       "      <th>notRepairedDamage</th>\n",
       "      <th>year_created</th>\n",
       "      <th>car_age</th>\n",
       "      <th>vehicle_type_cat</th>\n",
       "    </tr>\n",
       "  </thead>\n",
       "  <tbody>\n",
       "    <tr>\n",
       "      <th>3</th>\n",
       "      <td>1500</td>\n",
       "      <td>small_car</td>\n",
       "      <td>manual</td>\n",
       "      <td>75</td>\n",
       "      <td>golf</td>\n",
       "      <td>150000</td>\n",
       "      <td>6</td>\n",
       "      <td>petrol</td>\n",
       "      <td>volkswagen</td>\n",
       "      <td>no</td>\n",
       "      <td>2016</td>\n",
       "      <td>15</td>\n",
       "      <td>5</td>\n",
       "    </tr>\n",
       "    <tr>\n",
       "      <th>4</th>\n",
       "      <td>3600</td>\n",
       "      <td>small_car</td>\n",
       "      <td>manual</td>\n",
       "      <td>69</td>\n",
       "      <td>fabia</td>\n",
       "      <td>90000</td>\n",
       "      <td>7</td>\n",
       "      <td>diesel</td>\n",
       "      <td>skoda</td>\n",
       "      <td>no</td>\n",
       "      <td>2016</td>\n",
       "      <td>8</td>\n",
       "      <td>5</td>\n",
       "    </tr>\n",
       "    <tr>\n",
       "      <th>5</th>\n",
       "      <td>650</td>\n",
       "      <td>limousine</td>\n",
       "      <td>manual</td>\n",
       "      <td>102</td>\n",
       "      <td>3er</td>\n",
       "      <td>150000</td>\n",
       "      <td>10</td>\n",
       "      <td>petrol</td>\n",
       "      <td>bmw</td>\n",
       "      <td>yes</td>\n",
       "      <td>2016</td>\n",
       "      <td>21</td>\n",
       "      <td>3</td>\n",
       "    </tr>\n",
       "    <tr>\n",
       "      <th>6</th>\n",
       "      <td>2200</td>\n",
       "      <td>convertible</td>\n",
       "      <td>manual</td>\n",
       "      <td>109</td>\n",
       "      <td>2_reihe</td>\n",
       "      <td>150000</td>\n",
       "      <td>8</td>\n",
       "      <td>petrol</td>\n",
       "      <td>peugeot</td>\n",
       "      <td>no</td>\n",
       "      <td>2016</td>\n",
       "      <td>12</td>\n",
       "      <td>1</td>\n",
       "    </tr>\n",
       "    <tr>\n",
       "      <th>10</th>\n",
       "      <td>2000</td>\n",
       "      <td>limousine</td>\n",
       "      <td>manual</td>\n",
       "      <td>105</td>\n",
       "      <td>3_reihe</td>\n",
       "      <td>150000</td>\n",
       "      <td>12</td>\n",
       "      <td>petrol</td>\n",
       "      <td>mazda</td>\n",
       "      <td>no</td>\n",
       "      <td>2016</td>\n",
       "      <td>12</td>\n",
       "      <td>3</td>\n",
       "    </tr>\n",
       "  </tbody>\n",
       "</table>\n",
       "</div>"
      ],
      "text/plain": [
       "    price  vehicleType gearbox  powerPS    model  kilometer  \\\n",
       "3    1500    small_car  manual       75     golf     150000   \n",
       "4    3600    small_car  manual       69    fabia      90000   \n",
       "5     650    limousine  manual      102      3er     150000   \n",
       "6    2200  convertible  manual      109  2_reihe     150000   \n",
       "10   2000    limousine  manual      105  3_reihe     150000   \n",
       "\n",
       "    monthOfRegistration fuelType       brand notRepairedDamage  year_created  \\\n",
       "3                     6   petrol  volkswagen                no          2016   \n",
       "4                     7   diesel       skoda                no          2016   \n",
       "5                    10   petrol         bmw               yes          2016   \n",
       "6                     8   petrol     peugeot                no          2016   \n",
       "10                   12   petrol       mazda                no          2016   \n",
       "\n",
       "    car_age  vehicle_type_cat  \n",
       "3        15                 5  \n",
       "4         8                 5  \n",
       "5        21                 3  \n",
       "6        12                 1  \n",
       "10       12                 3  "
      ]
     },
     "execution_count": 16,
     "metadata": {},
     "output_type": "execute_result"
    }
   ],
   "source": [
    "data[\"vehicle_type_cat\"] = data[\"vehicleType\"].cat.codes #Make it numerical\n",
    "data.head()"
   ]
  },
  {
   "cell_type": "code",
   "execution_count": 17,
   "metadata": {},
   "outputs": [
    {
     "name": "stdout",
     "output_type": "stream",
     "text": [
      "golf               20607\n",
      "andere             19951\n",
      "3er                15392\n",
      "polo                8674\n",
      "corsa               8151\n",
      "                   ...  \n",
      "elefantino             5\n",
      "rangerover             4\n",
      "serie_3                3\n",
      "samara                 3\n",
      "discovery_sport        1\n",
      "Name: model, Length: 250, dtype: int64\n"
     ]
    }
   ],
   "source": [
    "print(data.model.value_counts()) #model column has too many variables, so it is dropped\n",
    "\n",
    "data.drop([\"model\"], axis = 1, inplace = True)"
   ]
  },
  {
   "cell_type": "code",
   "execution_count": 18,
   "metadata": {},
   "outputs": [
    {
     "name": "stdout",
     "output_type": "stream",
     "text": [
      "39\n"
     ]
    },
    {
     "data": {
      "text/html": [
       "<div>\n",
       "<style scoped>\n",
       "    .dataframe tbody tr th:only-of-type {\n",
       "        vertical-align: middle;\n",
       "    }\n",
       "\n",
       "    .dataframe tbody tr th {\n",
       "        vertical-align: top;\n",
       "    }\n",
       "\n",
       "    .dataframe thead th {\n",
       "        text-align: right;\n",
       "    }\n",
       "</style>\n",
       "<table border=\"1\" class=\"dataframe\">\n",
       "  <thead>\n",
       "    <tr style=\"text-align: right;\">\n",
       "      <th></th>\n",
       "      <th>price</th>\n",
       "      <th>vehicleType</th>\n",
       "      <th>gearbox</th>\n",
       "      <th>powerPS</th>\n",
       "      <th>kilometer</th>\n",
       "      <th>monthOfRegistration</th>\n",
       "      <th>fuelType</th>\n",
       "      <th>brand</th>\n",
       "      <th>notRepairedDamage</th>\n",
       "      <th>year_created</th>\n",
       "      <th>car_age</th>\n",
       "      <th>vehicle_type_cat</th>\n",
       "      <th>brand_cat</th>\n",
       "    </tr>\n",
       "  </thead>\n",
       "  <tbody>\n",
       "    <tr>\n",
       "      <th>3</th>\n",
       "      <td>1500</td>\n",
       "      <td>small_car</td>\n",
       "      <td>manual</td>\n",
       "      <td>75</td>\n",
       "      <td>150000</td>\n",
       "      <td>6</td>\n",
       "      <td>petrol</td>\n",
       "      <td>volkswagen</td>\n",
       "      <td>no</td>\n",
       "      <td>2016</td>\n",
       "      <td>15</td>\n",
       "      <td>5</td>\n",
       "      <td>37</td>\n",
       "    </tr>\n",
       "    <tr>\n",
       "      <th>4</th>\n",
       "      <td>3600</td>\n",
       "      <td>small_car</td>\n",
       "      <td>manual</td>\n",
       "      <td>69</td>\n",
       "      <td>90000</td>\n",
       "      <td>7</td>\n",
       "      <td>diesel</td>\n",
       "      <td>skoda</td>\n",
       "      <td>no</td>\n",
       "      <td>2016</td>\n",
       "      <td>8</td>\n",
       "      <td>5</td>\n",
       "      <td>31</td>\n",
       "    </tr>\n",
       "  </tbody>\n",
       "</table>\n",
       "</div>"
      ],
      "text/plain": [
       "   price vehicleType gearbox  powerPS  kilometer  monthOfRegistration  \\\n",
       "3   1500   small_car  manual       75     150000                    6   \n",
       "4   3600   small_car  manual       69      90000                    7   \n",
       "\n",
       "  fuelType       brand notRepairedDamage  year_created  car_age  \\\n",
       "3   petrol  volkswagen                no          2016       15   \n",
       "4   diesel       skoda                no          2016        8   \n",
       "\n",
       "   vehicle_type_cat  brand_cat  \n",
       "3                 5         37  \n",
       "4                 5         31  "
      ]
     },
     "execution_count": 18,
     "metadata": {},
     "output_type": "execute_result"
    }
   ],
   "source": [
    "print(data.brand.nunique())\n",
    "data[\"brand\"] = data[\"brand\"].astype('category')\n",
    "data[\"brand_cat\"] = data['brand'].cat.codes\n",
    "data.head(2)\n",
    "#The brand column is changed to a categorical variable"
   ]
  },
  {
   "cell_type": "markdown",
   "metadata": {},
   "source": [
    "Make remaining categorical values to numbers"
   ]
  },
  {
   "cell_type": "code",
   "execution_count": 19,
   "metadata": {},
   "outputs": [
    {
     "name": "stdout",
     "output_type": "stream",
     "text": [
      "2\n",
      "7\n",
      "2\n"
     ]
    },
    {
     "data": {
      "text/html": [
       "<div>\n",
       "<style scoped>\n",
       "    .dataframe tbody tr th:only-of-type {\n",
       "        vertical-align: middle;\n",
       "    }\n",
       "\n",
       "    .dataframe tbody tr th {\n",
       "        vertical-align: top;\n",
       "    }\n",
       "\n",
       "    .dataframe thead th {\n",
       "        text-align: right;\n",
       "    }\n",
       "</style>\n",
       "<table border=\"1\" class=\"dataframe\">\n",
       "  <thead>\n",
       "    <tr style=\"text-align: right;\">\n",
       "      <th></th>\n",
       "      <th>price</th>\n",
       "      <th>vehicleType</th>\n",
       "      <th>gearbox</th>\n",
       "      <th>powerPS</th>\n",
       "      <th>kilometer</th>\n",
       "      <th>monthOfRegistration</th>\n",
       "      <th>fuelType</th>\n",
       "      <th>brand</th>\n",
       "      <th>notRepairedDamage</th>\n",
       "      <th>year_created</th>\n",
       "      <th>car_age</th>\n",
       "      <th>vehicle_type_cat</th>\n",
       "      <th>brand_cat</th>\n",
       "      <th>gearbox_cat</th>\n",
       "      <th>fuelType_cat</th>\n",
       "      <th>notRepairedDamage_cat</th>\n",
       "    </tr>\n",
       "  </thead>\n",
       "  <tbody>\n",
       "    <tr>\n",
       "      <th>3</th>\n",
       "      <td>1500</td>\n",
       "      <td>small_car</td>\n",
       "      <td>manual</td>\n",
       "      <td>75</td>\n",
       "      <td>150000</td>\n",
       "      <td>6</td>\n",
       "      <td>petrol</td>\n",
       "      <td>volkswagen</td>\n",
       "      <td>no</td>\n",
       "      <td>2016</td>\n",
       "      <td>15</td>\n",
       "      <td>5</td>\n",
       "      <td>37</td>\n",
       "      <td>1</td>\n",
       "      <td>6</td>\n",
       "      <td>0</td>\n",
       "    </tr>\n",
       "    <tr>\n",
       "      <th>4</th>\n",
       "      <td>3600</td>\n",
       "      <td>small_car</td>\n",
       "      <td>manual</td>\n",
       "      <td>69</td>\n",
       "      <td>90000</td>\n",
       "      <td>7</td>\n",
       "      <td>diesel</td>\n",
       "      <td>skoda</td>\n",
       "      <td>no</td>\n",
       "      <td>2016</td>\n",
       "      <td>8</td>\n",
       "      <td>5</td>\n",
       "      <td>31</td>\n",
       "      <td>1</td>\n",
       "      <td>1</td>\n",
       "      <td>0</td>\n",
       "    </tr>\n",
       "  </tbody>\n",
       "</table>\n",
       "</div>"
      ],
      "text/plain": [
       "   price vehicleType gearbox  powerPS  kilometer  monthOfRegistration  \\\n",
       "3   1500   small_car  manual       75     150000                    6   \n",
       "4   3600   small_car  manual       69      90000                    7   \n",
       "\n",
       "  fuelType       brand notRepairedDamage  year_created  car_age  \\\n",
       "3   petrol  volkswagen                no          2016       15   \n",
       "4   diesel       skoda                no          2016        8   \n",
       "\n",
       "   vehicle_type_cat  brand_cat  gearbox_cat  fuelType_cat  \\\n",
       "3                 5         37            1             6   \n",
       "4                 5         31            1             1   \n",
       "\n",
       "   notRepairedDamage_cat  \n",
       "3                      0  \n",
       "4                      0  "
      ]
     },
     "execution_count": 19,
     "metadata": {},
     "output_type": "execute_result"
    }
   ],
   "source": [
    "print(data.gearbox.nunique())\n",
    "print(data.fuelType.nunique())\n",
    "print(data.notRepairedDamage.nunique())\n",
    "\n",
    "data[\"gearbox\"] = data[\"gearbox\"].astype('category')\n",
    "data[\"gearbox_cat\"] = data['gearbox'].cat.codes\n",
    "\n",
    "data[\"fuelType\"] = data[\"fuelType\"].astype('category')\n",
    "data[\"fuelType_cat\"] = data['fuelType'].cat.codes\n",
    "\n",
    "data[\"notRepairedDamage\"] = data[\"notRepairedDamage\"].astype('category')\n",
    "data[\"notRepairedDamage_cat\"] = data['notRepairedDamage'].cat.codes\n",
    "\n",
    "data.head(2)"
   ]
  },
  {
   "cell_type": "code",
   "execution_count": 20,
   "metadata": {},
   "outputs": [],
   "source": [
    "# Drop remaining string columns & Year_created\n",
    "data.drop([\"vehicleType\",\"gearbox\",\"fuelType\",\"brand\",\"notRepairedDamage\", \"year_created\"],axis = 1, inplace = True)"
   ]
  },
  {
   "cell_type": "code",
   "execution_count": 21,
   "metadata": {},
   "outputs": [
    {
     "name": "stdout",
     "output_type": "stream",
     "text": [
      "price                    int64\n",
      "powerPS                  int64\n",
      "kilometer                int64\n",
      "monthOfRegistration      int64\n",
      "car_age                  int64\n",
      "vehicle_type_cat          int8\n",
      "brand_cat                 int8\n",
      "gearbox_cat               int8\n",
      "fuelType_cat              int8\n",
      "notRepairedDamage_cat     int8\n",
      "dtype: object\n"
     ]
    },
    {
     "data": {
      "text/html": [
       "<div>\n",
       "<style scoped>\n",
       "    .dataframe tbody tr th:only-of-type {\n",
       "        vertical-align: middle;\n",
       "    }\n",
       "\n",
       "    .dataframe tbody tr th {\n",
       "        vertical-align: top;\n",
       "    }\n",
       "\n",
       "    .dataframe thead th {\n",
       "        text-align: right;\n",
       "    }\n",
       "</style>\n",
       "<table border=\"1\" class=\"dataframe\">\n",
       "  <thead>\n",
       "    <tr style=\"text-align: right;\">\n",
       "      <th></th>\n",
       "      <th>price</th>\n",
       "      <th>powerPS</th>\n",
       "      <th>kilometer</th>\n",
       "      <th>car_age</th>\n",
       "      <th>monthOfRegistration</th>\n",
       "      <th>vehicle_type_cat</th>\n",
       "      <th>brand_cat</th>\n",
       "      <th>gearbox_cat</th>\n",
       "      <th>fuelType_cat</th>\n",
       "      <th>notRepairedDamage_cat</th>\n",
       "    </tr>\n",
       "  </thead>\n",
       "  <tbody>\n",
       "    <tr>\n",
       "      <th>3</th>\n",
       "      <td>1500</td>\n",
       "      <td>75</td>\n",
       "      <td>150000</td>\n",
       "      <td>15</td>\n",
       "      <td>6</td>\n",
       "      <td>5</td>\n",
       "      <td>37</td>\n",
       "      <td>1</td>\n",
       "      <td>6</td>\n",
       "      <td>0</td>\n",
       "    </tr>\n",
       "    <tr>\n",
       "      <th>4</th>\n",
       "      <td>3600</td>\n",
       "      <td>69</td>\n",
       "      <td>90000</td>\n",
       "      <td>8</td>\n",
       "      <td>7</td>\n",
       "      <td>5</td>\n",
       "      <td>31</td>\n",
       "      <td>1</td>\n",
       "      <td>1</td>\n",
       "      <td>0</td>\n",
       "    </tr>\n",
       "    <tr>\n",
       "      <th>5</th>\n",
       "      <td>650</td>\n",
       "      <td>102</td>\n",
       "      <td>150000</td>\n",
       "      <td>21</td>\n",
       "      <td>10</td>\n",
       "      <td>3</td>\n",
       "      <td>2</td>\n",
       "      <td>1</td>\n",
       "      <td>6</td>\n",
       "      <td>1</td>\n",
       "    </tr>\n",
       "    <tr>\n",
       "      <th>6</th>\n",
       "      <td>2200</td>\n",
       "      <td>109</td>\n",
       "      <td>150000</td>\n",
       "      <td>12</td>\n",
       "      <td>8</td>\n",
       "      <td>1</td>\n",
       "      <td>25</td>\n",
       "      <td>1</td>\n",
       "      <td>6</td>\n",
       "      <td>0</td>\n",
       "    </tr>\n",
       "    <tr>\n",
       "      <th>10</th>\n",
       "      <td>2000</td>\n",
       "      <td>105</td>\n",
       "      <td>150000</td>\n",
       "      <td>12</td>\n",
       "      <td>12</td>\n",
       "      <td>3</td>\n",
       "      <td>19</td>\n",
       "      <td>1</td>\n",
       "      <td>6</td>\n",
       "      <td>0</td>\n",
       "    </tr>\n",
       "  </tbody>\n",
       "</table>\n",
       "</div>"
      ],
      "text/plain": [
       "    price  powerPS  kilometer  car_age  monthOfRegistration  vehicle_type_cat  \\\n",
       "3    1500       75     150000       15                    6                 5   \n",
       "4    3600       69      90000        8                    7                 5   \n",
       "5     650      102     150000       21                   10                 3   \n",
       "6    2200      109     150000       12                    8                 1   \n",
       "10   2000      105     150000       12                   12                 3   \n",
       "\n",
       "    brand_cat  gearbox_cat  fuelType_cat  notRepairedDamage_cat  \n",
       "3          37            1             6                      0  \n",
       "4          31            1             1                      0  \n",
       "5           2            1             6                      1  \n",
       "6          25            1             6                      0  \n",
       "10         19            1             6                      0  "
      ]
     },
     "execution_count": 21,
     "metadata": {},
     "output_type": "execute_result"
    }
   ],
   "source": [
    "print(data.dtypes)\n",
    "\n",
    "data = data[[\"price\",\"powerPS\",\"kilometer\",\"car_age\",\"monthOfRegistration\",\"vehicle_type_cat\",\"brand_cat\",\n",
    "            \"gearbox_cat\",\"fuelType_cat\",\"notRepairedDamage_cat\"]]\n",
    "data.head(5)"
   ]
  },
  {
   "cell_type": "markdown",
   "metadata": {},
   "source": [
    "Data is now cleaned and ready for the model.\n",
    "\n",
    "Split the data into train,validation and test sets"
   ]
  },
  {
   "cell_type": "code",
   "execution_count": 22,
   "metadata": {},
   "outputs": [],
   "source": [
    "#Separate in X - all the independent variables and Y - the dependent variable\n",
    "X = data[[\"powerPS\",\"kilometer\",\"car_age\",\"monthOfRegistration\",\"vehicle_type_cat\",\"brand_cat\",\n",
    "            \"gearbox_cat\",\"fuelType_cat\",\"notRepairedDamage_cat\"]].values\n",
    "\n",
    "y = data[[\"price\"]].values.ravel()"
   ]
  },
  {
   "cell_type": "code",
   "execution_count": 23,
   "metadata": {},
   "outputs": [
    {
     "name": "stdout",
     "output_type": "stream",
     "text": [
      "X_train shape: (152274, 9)\n",
      "X_val shape: (53502, 9)\n",
      "X_test shape: (51444, 9)\n",
      "y_train shape: (152274,)\n",
      "y_val shape: (53502,)\n",
      "y_test shape: (51444,)\n"
     ]
    }
   ],
   "source": [
    "X1, X_test, y1, y_test = train_test_split(X, y, test_size = 0.20, random_state = 1) #Test set 20%\n",
    "\n",
    "#X1, y1 are placeholders for the next split\n",
    "X_train, X_val, y_train, y_val = train_test_split(X1, y1, test_size = 0.26, random_state = 1) #Validation set 20% of TOTAL\n",
    "\n",
    "print(f\"X_train shape: {X_train.shape}\"),\n",
    "print(f\"X_val shape: {X_val.shape}\")\n",
    "print(f\"X_test shape: {X_test.shape}\")\n",
    "print(f\"y_train shape: {y_train.shape}\")\n",
    "print(f\"y_val shape: {y_val.shape}\")\n",
    "print(f\"y_test shape: {y_test.shape}\")"
   ]
  },
  {
   "cell_type": "markdown",
   "metadata": {},
   "source": [
    "#### Separate categorical and continuous variables for scaling\n",
    "* We only scale the continuous variables"
   ]
  },
  {
   "cell_type": "code",
   "execution_count": 24,
   "metadata": {},
   "outputs": [],
   "source": [
    "X_train_cont = X_train[:,0:3] #Take continuous variables to scale\n",
    "X_train_cat = X_train[:,3:] #Take categorical variables as they will not be scaled\n",
    "\n",
    "X_val_cont = X_val[:,0:3]#Take continuous variables to scale\n",
    "X_val_cat = X_val[:,3:]#Take categorical variables as they will not be scaled\n",
    "\n",
    "X_test_cont = X_test[:,0:3]#Take continuous variables to scale\n",
    "X_test_cat = X_test[:,3:]#Take categorical variables as they will not be scaled\n"
   ]
  },
  {
   "cell_type": "markdown",
   "metadata": {},
   "source": [
    "Scale all the continuous variables so they are on the same scale"
   ]
  },
  {
   "cell_type": "code",
   "execution_count": 25,
   "metadata": {},
   "outputs": [],
   "source": [
    "sc = StandardScaler()\n",
    "\n",
    "X_train_cont = sc.fit_transform(X_train_cont)\n",
    "X_val_cont = sc.transform(X_val_cont)\n",
    "X_test_cont = sc.transform(X_test_cont)\n"
   ]
  },
  {
   "cell_type": "markdown",
   "metadata": {},
   "source": [
    "Re-combine all the X datasets into 1"
   ]
  },
  {
   "cell_type": "code",
   "execution_count": 26,
   "metadata": {},
   "outputs": [],
   "source": [
    "X_train = np.concatenate((X_train_cont,X_train_cat), axis = 1)\n",
    "\n",
    "X_val = np.concatenate((X_val_cont,X_val_cat), axis = 1)\n",
    "\n",
    "X_test = np.concatenate((X_test_cont,X_test_cat), axis = 1)\n"
   ]
  },
  {
   "cell_type": "code",
   "execution_count": 27,
   "metadata": {},
   "outputs": [
    {
     "name": "stdout",
     "output_type": "stream",
     "text": [
      "X_train shape: (152274, 9)\n",
      "X_val shape: (53502, 9)\n",
      "X_test shape: (51444, 9)\n",
      "y_train shape: (152274,)\n",
      "y_val shape: (53502,)\n",
      "y_test shape: (51444,)\n"
     ]
    }
   ],
   "source": [
    "print(f\"X_train shape: {X_train.shape}\"),\n",
    "print(f\"X_val shape: {X_val.shape}\")\n",
    "print(f\"X_test shape: {X_test.shape}\")\n",
    "print(f\"y_train shape: {y_train.shape}\")\n",
    "print(f\"y_val shape: {y_val.shape}\")\n",
    "print(f\"y_test shape: {y_test.shape}\")"
   ]
  },
  {
   "cell_type": "markdown",
   "metadata": {},
   "source": [
    "Correlation Matrix of variables used in the analysis\n",
    "* There are some variables that correlate somewhat, however this is expected based on the type of data"
   ]
  },
  {
   "cell_type": "code",
   "execution_count": 28,
   "metadata": {},
   "outputs": [
    {
     "data": {
      "image/png": "[encoded data removed]",
      "text/plain": [
       "<Figure size 432x288 with 2 Axes>"
      ]
     },
     "metadata": {
      "needs_background": "light"
     },
     "output_type": "display_data"
    }
   ],
   "source": [
    "X_train_corr = data.corr()\n",
    "\n",
    "sns.heatmap(X_train_corr, mask=np.zeros_like(X_train_corr, dtype=np.bool), cmap=sns.diverging_palette(220, 10, as_cmap=True), square=True)\n",
    "plt.title(\"Correlation matrix for variables used in model\")\n",
    "plt.show()"
   ]
  },
  {
   "cell_type": "markdown",
   "metadata": {},
   "source": [
    "## Linear Regression Models"
   ]
  },
  {
   "cell_type": "markdown",
   "metadata": {},
   "source": [
    "Simple linear regression model"
   ]
  },
  {
   "cell_type": "code",
   "execution_count": 50,
   "metadata": {},
   "outputs": [
    {
     "name": "stdout",
     "output_type": "stream",
     "text": [
      "Linear model coefficients of determination(R^2):0.4455.\n",
      "Linear model root mean squared error:  5807.646674686456\n"
     ]
    }
   ],
   "source": [
    "lm_model = LinearRegression(n_jobs = -1)\n",
    "lm_model.fit(X_train,y_train)\n",
    "\n",
    "y_pred = lm_model.predict(X_val)\n",
    "\n",
    "lm_model.score(X_val,y_val)\n",
    "print(\"Linear model coefficients of determination(R^2):{:.4f}.\".format(lm_model.score(X_val,y_val)))\n",
    "print(\"Linear model root mean squared error: \", np.sqrt(metrics.mean_squared_error(y_pred,y_val)))\n"
   ]
  },
  {
   "cell_type": "markdown",
   "metadata": {},
   "source": [
    "Ridge Regression linear model"
   ]
  },
  {
   "cell_type": "code",
   "execution_count": 108,
   "metadata": {},
   "outputs": [
    {
     "name": "stdout",
     "output_type": "stream",
     "text": [
      "Ridge linear model coefficients of determination(R^2):0.4455.\n",
      "Ridge linear model root mean squared error:  5807.647266453065\n"
     ]
    }
   ],
   "source": [
    "ridg = Ridge()\n",
    "ridg.fit(X_train,y_train)\n",
    "\n",
    "y_pred = ridg.predict(X_val)\n",
    "\n",
    "print(\"Ridge linear model coefficients of determination(R^2):{:.4f}.\".format(ridg.score(X_val,y_val)))\n",
    "print(\"Ridge linear model root mean squared error: \", np.sqrt(metrics.mean_squared_error(y_pred,y_val)))\n"
   ]
  },
  {
   "cell_type": "markdown",
   "metadata": {},
   "source": [
    "Lasso Regression linear model"
   ]
  },
  {
   "cell_type": "code",
   "execution_count": 109,
   "metadata": {},
   "outputs": [
    {
     "name": "stdout",
     "output_type": "stream",
     "text": [
      "Lasso linear model coefficients of determination(R^2):0.4455.\n",
      "Lasso linear model root mean squared error:  5807.590189230923\n"
     ]
    }
   ],
   "source": [
    "lass = Lasso()\n",
    "lass.fit(X_train,y_train)\n",
    "\n",
    "y_pred = lass.predict(X_val)\n",
    "\n",
    "print(\"Lasso linear model coefficients of determination(R^2):{:.4f}.\".format(lass.score(X_val,y_val)))\n",
    "print(\"Lasso linear model root mean squared error: \", np.sqrt(metrics.mean_squared_error(y_pred,y_val)))"
   ]
  },
  {
   "cell_type": "markdown",
   "metadata": {},
   "source": [
    "Elastic Net (Linear regression using L1 and L2 as regularizers)"
   ]
  },
  {
   "cell_type": "code",
   "execution_count": 110,
   "metadata": {},
   "outputs": [
    {
     "name": "stdout",
     "output_type": "stream",
     "text": [
      "Elastic Net model coefficients of determination(R^2):0.4012.\n",
      "Elastic Net model root mean squared error:  6034.955684028203\n"
     ]
    }
   ],
   "source": [
    "enm = ElasticNet()\n",
    "enm.fit(X_train,y_train)\n",
    "\n",
    "y_pred = enm.predict(X_val)\n",
    "\n",
    "enm.score(X_val,y_val)\n",
    "print(\"Elastic Net model coefficients of determination(R^2):{:.4f}.\".format(enm.score(X_val,y_val)))\n",
    "print(\"Elastic Net model root mean squared error: \", np.sqrt(metrics.mean_squared_error(y_pred,y_val)))"
   ]
  },
  {
   "cell_type": "code",
   "execution_count": 111,
   "metadata": {},
   "outputs": [
    {
     "name": "stdout",
     "output_type": "stream",
     "text": [
      "Ridge linear model coefficients of determination(R^2):0.4455.\n",
      "Ridge linear model root mean squared error:  5807.647266372454\n"
     ]
    }
   ],
   "source": [
    "ridgCV = RidgeCV(alphas=[1e-3, 1e-2, 1e-1, 1])\n",
    "ridgCV.fit(X_train,y_train)\n",
    "\n",
    "y_pred = ridgCV.predict(X_val)\n",
    "\n",
    "print(\"Ridge linear model coefficients of determination(R^2):{:.4f}.\".format(ridgCV.score(X_val,y_val)))\n",
    "print(\"Ridge linear model root mean squared error: \", np.sqrt(metrics.mean_squared_error(y_pred,y_val)))\n"
   ]
  },
  {
   "cell_type": "markdown",
   "metadata": {},
   "source": [
    "Calculate the final R^2 score for the linear regression model using the test set"
   ]
  },
  {
   "cell_type": "code",
   "execution_count": 51,
   "metadata": {},
   "outputs": [
    {
     "name": "stdout",
     "output_type": "stream",
     "text": [
      "Linear model coefficients of determination(R^2):0.4688.\n",
      "Linear model root mean squared error:  5711.816599636984\n"
     ]
    }
   ],
   "source": [
    "## Final linear regression scores using the test set\n",
    "\n",
    "y_pred = lm_model.predict(X_test)\n",
    "\n",
    "print(\"Linear model coefficients of determination(R^2):{:.4f}.\".format(lm_model.score(X_test,y_test)))\n",
    "print(\"Linear model root mean squared error: \", np.sqrt(metrics.mean_squared_error(y_pred,y_test)))\n",
    "\n",
    "lm_rmse = np.sqrt(metrics.mean_squared_error(y_pred,y_test))"
   ]
  },
  {
   "cell_type": "markdown",
   "metadata": {},
   "source": [
    "### Cross validation for linear regression model"
   ]
  },
  {
   "cell_type": "markdown",
   "metadata": {},
   "source": [
    "Combine the training set and the validation set to run 10-fold cross validation"
   ]
  },
  {
   "cell_type": "code",
   "execution_count": 40,
   "metadata": {},
   "outputs": [
    {
     "name": "stdout",
     "output_type": "stream",
     "text": [
      "X_train shape: (152274, 9)\n",
      "X_val shape: (53502, 9)\n",
      "y_train shape: (152274,)\n",
      "y_val shape: (53502,)\n",
      "X_train_val shape: (205776, 9)\n",
      "y_train_val shape: (205776,)\n"
     ]
    }
   ],
   "source": [
    "print(f\"X_train shape: {X_train.shape}\")\n",
    "print(f\"X_val shape: {X_val.shape}\")\n",
    "\n",
    "print(f\"y_train shape: {y_train.shape}\")\n",
    "print(f\"y_val shape: {y_val.shape}\")\n",
    "\n",
    "X_train_val = np.vstack((X_train,X_val))\n",
    "\n",
    "y_train_val = np.concatenate((y_train,y_val))\n",
    "\n",
    "print(f\"X_train_val shape: {X_train_val.shape}\")\n",
    "print(f\"y_train_val shape: {y_train_val.shape}\")"
   ]
  },
  {
   "cell_type": "markdown",
   "metadata": {},
   "source": [
    "Calculate the R^2 scores for 10-fold cross validation using the training set + validation set"
   ]
  },
  {
   "cell_type": "code",
   "execution_count": 44,
   "metadata": {},
   "outputs": [
    {
     "name": "stdout",
     "output_type": "stream",
     "text": [
      "0.4650689846216669\n"
     ]
    }
   ],
   "source": [
    "cross_val_lm = LinearRegression()\n",
    "\n",
    "cross_val_scores_lm = cross_val_score(cross_val_lm,X_train_val,y_train_val,cv = 10)\n",
    "print(cross_val_scores_lm.mean())"
   ]
  },
  {
   "cell_type": "code",
   "execution_count": 45,
   "metadata": {},
   "outputs": [
    {
     "data": {
      "text/html": [
       "<div>\n",
       "<style scoped>\n",
       "    .dataframe tbody tr th:only-of-type {\n",
       "        vertical-align: middle;\n",
       "    }\n",
       "\n",
       "    .dataframe tbody tr th {\n",
       "        vertical-align: top;\n",
       "    }\n",
       "\n",
       "    .dataframe thead th {\n",
       "        text-align: right;\n",
       "    }\n",
       "</style>\n",
       "<table border=\"1\" class=\"dataframe\">\n",
       "  <thead>\n",
       "    <tr style=\"text-align: right;\">\n",
       "      <th></th>\n",
       "      <th>Linear Model R^2 score</th>\n",
       "    </tr>\n",
       "  </thead>\n",
       "  <tbody>\n",
       "    <tr>\n",
       "      <th>0</th>\n",
       "      <td>0.47</td>\n",
       "    </tr>\n",
       "    <tr>\n",
       "      <th>1</th>\n",
       "      <td>0.48</td>\n",
       "    </tr>\n",
       "    <tr>\n",
       "      <th>2</th>\n",
       "      <td>0.50</td>\n",
       "    </tr>\n",
       "    <tr>\n",
       "      <th>3</th>\n",
       "      <td>0.45</td>\n",
       "    </tr>\n",
       "    <tr>\n",
       "      <th>4</th>\n",
       "      <td>0.47</td>\n",
       "    </tr>\n",
       "    <tr>\n",
       "      <th>5</th>\n",
       "      <td>0.49</td>\n",
       "    </tr>\n",
       "    <tr>\n",
       "      <th>6</th>\n",
       "      <td>0.46</td>\n",
       "    </tr>\n",
       "    <tr>\n",
       "      <th>7</th>\n",
       "      <td>0.42</td>\n",
       "    </tr>\n",
       "    <tr>\n",
       "      <th>8</th>\n",
       "      <td>0.47</td>\n",
       "    </tr>\n",
       "    <tr>\n",
       "      <th>9</th>\n",
       "      <td>0.44</td>\n",
       "    </tr>\n",
       "  </tbody>\n",
       "</table>\n",
       "</div>"
      ],
      "text/plain": [
       "   Linear Model R^2 score\n",
       "0                    0.47\n",
       "1                    0.48\n",
       "2                    0.50\n",
       "3                    0.45\n",
       "4                    0.47\n",
       "5                    0.49\n",
       "6                    0.46\n",
       "7                    0.42\n",
       "8                    0.47\n",
       "9                    0.44"
      ]
     },
     "execution_count": 45,
     "metadata": {},
     "output_type": "execute_result"
    }
   ],
   "source": [
    "lm_result = {\"Linear Model R^2 score\": cross_val_scores_lm}\n",
    "\n",
    "lm_result = pd.DataFrame(lm_result)\n",
    "lm_result[\"Linear Model R^2 score\"] = lm_result[\"Linear Model R^2 score\"].apply(lambda x: round(x,2))\n",
    "lm_result"
   ]
  },
  {
   "cell_type": "markdown",
   "metadata": {},
   "source": [
    "## Decision Tree regressor"
   ]
  },
  {
   "cell_type": "code",
   "execution_count": 116,
   "metadata": {},
   "outputs": [
    {
     "data": {
      "text/plain": [
       "0.7965053989593075"
      ]
     },
     "execution_count": 116,
     "metadata": {},
     "output_type": "execute_result"
    }
   ],
   "source": [
    "dt = DecisionTreeRegressor(random_state = 1)\n",
    "dt.fit(X_train,y_train)\n",
    "\n",
    "dt.score(X_val,y_val)\n"
   ]
  },
  {
   "cell_type": "code",
   "execution_count": 117,
   "metadata": {},
   "outputs": [
    {
     "name": "stdout",
     "output_type": "stream",
     "text": [
      "Decision Tree root mean squared error:  3518.1471639761544\n"
     ]
    }
   ],
   "source": [
    "y_pred = dt.predict(X_val)\n",
    "print(\"Decision Tree root mean squared error: \", np.sqrt(metrics.mean_squared_error(y_pred,y_val)))"
   ]
  },
  {
   "cell_type": "code",
   "execution_count": 118,
   "metadata": {},
   "outputs": [
    {
     "data": {
      "text/plain": [
       "GridSearchCV(estimator=DecisionTreeRegressor(),\n",
       "             param_grid={'criterion': ['mse', 'friedman_mse', 'mae'],\n",
       "                         'max_depth': [4, 6, 8, 10],\n",
       "                         'splitter': ['best', 'random']})"
      ]
     },
     "execution_count": 118,
     "metadata": {},
     "output_type": "execute_result"
    }
   ],
   "source": [
    "params = {\"criterion\":[\"mse\",\"friedman_mse\",\"mae\"], \"splitter\":[\"best\",\"random\"], \"max_depth\":[4,6,8,10]}\n",
    "\n",
    "dt_2 = GridSearchCV(DecisionTreeRegressor(), params)\n",
    "dt_2.fit(X_train,y_train)"
   ]
  },
  {
   "cell_type": "code",
   "execution_count": 119,
   "metadata": {},
   "outputs": [
    {
     "name": "stdout",
     "output_type": "stream",
     "text": [
      "{'criterion': 'friedman_mse', 'max_depth': 10, 'splitter': 'best'}\n"
     ]
    },
    {
     "data": {
      "text/plain": [
       "0.8235997295271513"
      ]
     },
     "execution_count": 119,
     "metadata": {},
     "output_type": "execute_result"
    }
   ],
   "source": [
    "print(dt_2.best_params_)\n",
    "\n",
    "dt_2.score(X_val,y_val)"
   ]
  },
  {
   "cell_type": "code",
   "execution_count": 120,
   "metadata": {},
   "outputs": [],
   "source": [
    "max_depth = range(9,15,1)\n",
    "r_squared_val = []\n",
    "r_squared_train = []\n",
    "\n",
    "\n",
    "for depth in max_depth:\n",
    "    tree = DecisionTreeRegressor(criterion = \"friedman_mse\", max_depth = depth,random_state = 1).fit(X_train,y_train)\n",
    "    r_squared_train.append(tree.score(X_train,y_train))\n",
    "    r_squared_val.append(tree.score(X_val,y_val))\n",
    "    "
   ]
  },
  {
   "cell_type": "code",
   "execution_count": 121,
   "metadata": {},
   "outputs": [
    {
     "data": {
      "image/png": "[encoded data removed]",
      "text/plain": [
       "<Figure size 720x540 with 1 Axes>"
      ]
     },
     "metadata": {
      "needs_background": "light"
     },
     "output_type": "display_data"
    }
   ],
   "source": [
    "fig = plt.subplots(figsize=(8, 6), dpi=90)\n",
    "\n",
    "plt.plot(max_depth,r_squared_train)\n",
    "plt.plot(max_depth,r_squared_val)\n",
    "plt.title(\"R^2 for different max depth values\")\n",
    "plt.xlabel(\"Max Depth\")\n",
    "plt.ylabel(\"R^2\")\n",
    "plt.legend([\"Training\",\"Validation\"])\n",
    "plt.show()"
   ]
  },
  {
   "cell_type": "code",
   "execution_count": 122,
   "metadata": {},
   "outputs": [
    {
     "data": {
      "text/plain": [
       "0.8312870720974594"
      ]
     },
     "execution_count": 122,
     "metadata": {},
     "output_type": "execute_result"
    }
   ],
   "source": [
    "dt = DecisionTreeRegressor(criterion = \"friedman_mse\", max_depth = 12)\n",
    "dt.fit(X_train,y_train)\n",
    "dt.score(X_val,y_val)"
   ]
  },
  {
   "cell_type": "markdown",
   "metadata": {},
   "source": [
    "Calculate the coefficient of determination and the root mean squared error for the decision tree model using the test set. This is the result that will be used to compare models."
   ]
  },
  {
   "cell_type": "code",
   "execution_count": 52,
   "metadata": {},
   "outputs": [
    {
     "name": "stdout",
     "output_type": "stream",
     "text": [
      "Decision Tree coefficients of determination(R^2):0.8331.\n",
      "Decision Tree root mean squared error:  3201.1220083520584\n"
     ]
    }
   ],
   "source": [
    "## Final decision tree scores using the test set\n",
    "random.seed(999)\n",
    "\n",
    "dt = DecisionTreeRegressor(criterion = \"friedman_mse\", max_depth = 12,random_state = 1).fit(X_train,y_train)\n",
    "\n",
    "y_pred = dt.predict(X_test)\n",
    "\n",
    "print(\"Decision Tree coefficients of determination(R^2):{:.4f}.\".format(dt.score(X_test,y_test)))\n",
    "print(\"Decision Tree root mean squared error: \", np.sqrt(metrics.mean_squared_error(y_pred,y_test)))\n",
    "\n",
    "dt_rmse = np.sqrt(metrics.mean_squared_error(y_pred,y_test))"
   ]
  },
  {
   "cell_type": "markdown",
   "metadata": {},
   "source": [
    "#### Here is an example plot of a decision tree with reduce max_depth"
   ]
  },
  {
   "cell_type": "code",
   "execution_count": 124,
   "metadata": {},
   "outputs": [
    {
     "data": {
      "image/png": "[encoded data removed]",
      "text/plain": [
       "<Figure size 900x900 with 1 Axes>"
      ]
     },
     "metadata": {
      "needs_background": "light"
     },
     "output_type": "display_data"
    }
   ],
   "source": [
    "fig = plt.subplots(figsize=(10, 10), dpi=90)\n",
    "\n",
    "plot_tree(dt, filled = True, fontsize = 5, max_depth = 5)\n",
    "plt.title(\"Best decision tree plot\")\n",
    "plt.show()"
   ]
  },
  {
   "cell_type": "markdown",
   "metadata": {},
   "source": [
    "#### Comparing decision tree to baseline linear regression model"
   ]
  },
  {
   "cell_type": "code",
   "execution_count": 56,
   "metadata": {},
   "outputs": [
    {
     "name": "stdout",
     "output_type": "stream",
     "text": [
      "0.8337371650669733\n"
     ]
    }
   ],
   "source": [
    "cross_val_k_fold_dt = DecisionTreeRegressor(criterion = \"friedman_mse\", max_depth = 12,random_state = 1)\n",
    "\n",
    "cross_val_scores_dt = cross_val_score(cross_val_k_fold_dt,X_train_val,y_train_val,cv = 10)\n",
    "print(cross_val_scores_dt.mean())"
   ]
  },
  {
   "cell_type": "markdown",
   "metadata": {},
   "source": [
    "Conducted a two-sided t-test to see if the R^2 score of the decision tree is significantly better than the baseline liner regression model."
   ]
  },
  {
   "cell_type": "code",
   "execution_count": 126,
   "metadata": {},
   "outputs": [
    {
     "name": "stdout",
     "output_type": "stream",
     "text": [
      "The result of the t-test with the null hypothesis suggesting the linear model and decision tree have the same R^2 is: 2.624185294015161e-13.\n",
      "\n",
      "We therefore reject the null and say that the decision tree model with an R^2 average score of 0.83 is significantly superior\n",
      "to the linear model with an R^2 average of 0.47.\n"
     ]
    }
   ],
   "source": [
    "#T-test comparing decision tree vs linear model\n",
    "stats.ttest_rel(cross_val_scores_lm,cross_val_scores_dt)\n",
    "\n",
    "print(\"The result of the t-test with the null hypothesis suggesting the linear model and decision tree have the same R^2 is: {}.\".\n",
    "     format(stats.ttest_rel(cross_val_scores_lm,cross_val_scores_dt).pvalue*0.5))\n",
    "\n",
    "print(\"\\nWe therefore reject the null and say that the decision tree model with an R^2 average score of {:.2f} is significantly superior\\nto the linear model with an R^2 average of {:.2f}.\".\n",
    "     format(cross_val_scores_dt.mean(),cross_val_scores_lm.mean()))\n",
    "\n"
   ]
  },
  {
   "cell_type": "code",
   "execution_count": 127,
   "metadata": {},
   "outputs": [
    {
     "data": {
      "text/html": [
       "<div>\n",
       "<style scoped>\n",
       "    .dataframe tbody tr th:only-of-type {\n",
       "        vertical-align: middle;\n",
       "    }\n",
       "\n",
       "    .dataframe tbody tr th {\n",
       "        vertical-align: top;\n",
       "    }\n",
       "\n",
       "    .dataframe thead th {\n",
       "        text-align: right;\n",
       "    }\n",
       "</style>\n",
       "<table border=\"1\" class=\"dataframe\">\n",
       "  <thead>\n",
       "    <tr style=\"text-align: right;\">\n",
       "      <th></th>\n",
       "      <th>Decision Tree R^2 score</th>\n",
       "    </tr>\n",
       "  </thead>\n",
       "  <tbody>\n",
       "    <tr>\n",
       "      <th>0</th>\n",
       "      <td>0.85</td>\n",
       "    </tr>\n",
       "    <tr>\n",
       "      <th>1</th>\n",
       "      <td>0.85</td>\n",
       "    </tr>\n",
       "    <tr>\n",
       "      <th>2</th>\n",
       "      <td>0.86</td>\n",
       "    </tr>\n",
       "    <tr>\n",
       "      <th>3</th>\n",
       "      <td>0.82</td>\n",
       "    </tr>\n",
       "    <tr>\n",
       "      <th>4</th>\n",
       "      <td>0.84</td>\n",
       "    </tr>\n",
       "    <tr>\n",
       "      <th>5</th>\n",
       "      <td>0.81</td>\n",
       "    </tr>\n",
       "    <tr>\n",
       "      <th>6</th>\n",
       "      <td>0.82</td>\n",
       "    </tr>\n",
       "    <tr>\n",
       "      <th>7</th>\n",
       "      <td>0.80</td>\n",
       "    </tr>\n",
       "    <tr>\n",
       "      <th>8</th>\n",
       "      <td>0.85</td>\n",
       "    </tr>\n",
       "    <tr>\n",
       "      <th>9</th>\n",
       "      <td>0.84</td>\n",
       "    </tr>\n",
       "  </tbody>\n",
       "</table>\n",
       "</div>"
      ],
      "text/plain": [
       "   Decision Tree R^2 score\n",
       "0                     0.85\n",
       "1                     0.85\n",
       "2                     0.86\n",
       "3                     0.82\n",
       "4                     0.84\n",
       "5                     0.81\n",
       "6                     0.82\n",
       "7                     0.80\n",
       "8                     0.85\n",
       "9                     0.84"
      ]
     },
     "execution_count": 127,
     "metadata": {},
     "output_type": "execute_result"
    }
   ],
   "source": [
    "dt_result = {\"Decision Tree R^2 score\": cross_val_scores_dt}\n",
    "\n",
    "dt_result = pd.DataFrame(dt_result)\n",
    "dt_result[\"Decision Tree R^2 score\"] = dt_result[\"Decision Tree R^2 score\"].apply(lambda x: round(x,2))\n",
    "dt_result"
   ]
  },
  {
   "cell_type": "markdown",
   "metadata": {},
   "source": [
    "## Random Forest regressor"
   ]
  },
  {
   "cell_type": "markdown",
   "metadata": {},
   "source": [
    "Run a forest regressor on the validation set"
   ]
  },
  {
   "cell_type": "code",
   "execution_count": 128,
   "metadata": {},
   "outputs": [
    {
     "data": {
      "text/plain": [
       "RandomForestRegressor(n_jobs=-1, random_state=1)"
      ]
     },
     "execution_count": 128,
     "metadata": {},
     "output_type": "execute_result"
    }
   ],
   "source": [
    "random_forest = RandomForestRegressor(n_jobs = -1,random_state = 1)\n",
    "random_forest.fit(X_train,y_train)"
   ]
  },
  {
   "cell_type": "code",
   "execution_count": 129,
   "metadata": {},
   "outputs": [
    {
     "data": {
      "text/plain": [
       "0.8786307238132549"
      ]
     },
     "execution_count": 129,
     "metadata": {},
     "output_type": "execute_result"
    }
   ],
   "source": [
    "random_forest.score(X_val,y_val)"
   ]
  },
  {
   "cell_type": "code",
   "execution_count": 130,
   "metadata": {},
   "outputs": [
    {
     "name": "stdout",
     "output_type": "stream",
     "text": [
      "Random Forest root mean squared error:  2717.0143822259056\n"
     ]
    }
   ],
   "source": [
    "y_pred = random_forest.predict(X_val)\n",
    "print(\"Random Forest root mean squared error: \", np.sqrt(metrics.mean_squared_error(y_pred,y_val)))"
   ]
  },
  {
   "cell_type": "markdown",
   "metadata": {},
   "source": [
    "Tuning to find the best number of trees to use:"
   ]
  },
  {
   "cell_type": "code",
   "execution_count": 131,
   "metadata": {},
   "outputs": [],
   "source": [
    "n_estimators = range(5, 500, 50)\n",
    "estimators_accuracies_val = []\n",
    "estimators_accuracies_train = []\n",
    "\n",
    "for estimator in n_estimators:\n",
    "    rf = RandomForestRegressor(n_estimators = estimator,n_jobs = -1)\n",
    "    rf.fit(X_train,y_train)\n",
    "    estimators_accuracies_val.append(rf.score(X_val,y_val))\n",
    "    estimators_accuracies_train.append(rf.score(X_train,y_train))\n",
    "    \n",
    "    "
   ]
  },
  {
   "cell_type": "code",
   "execution_count": 132,
   "metadata": {},
   "outputs": [
    {
     "name": "stdout",
     "output_type": "stream",
     "text": [
      "The best number of estimators to use for random forests is: 455.\n"
     ]
    }
   ],
   "source": [
    "max_index = estimators_accuracies_val.index(max(estimators_accuracies_val))\n",
    "\n",
    "best_number = n_estimators[max_index]\n",
    "\n",
    "print(\"The best number of estimators to use for random forests is: {}.\".format(best_number))"
   ]
  },
  {
   "cell_type": "code",
   "execution_count": 133,
   "metadata": {},
   "outputs": [
    {
     "data": {
      "image/png": "[encoded data removed]",
      "text/plain": [
       "<Figure size 900x540 with 2 Axes>"
      ]
     },
     "metadata": {
      "needs_background": "light"
     },
     "output_type": "display_data"
    }
   ],
   "source": [
    "fig = plt.subplots(figsize=(10, 6), dpi=90)\n",
    "\n",
    "plt.subplot(121)\n",
    "plt.plot(n_estimators,estimators_accuracies_val)\n",
    "plt.title(\"R^2 for different numbers of trees\")\n",
    "plt.xlabel(\"Number of trees\")\n",
    "plt.ylabel(\"R^2\")\n",
    "\n",
    "\n",
    "plt.subplot(122)\n",
    "plt.plot(n_estimators,estimators_accuracies_val)\n",
    "plt.plot(n_estimators,estimators_accuracies_train)\n",
    "plt.title(\"R^2 for different numbers of trees\")\n",
    "plt.xlabel(\"Number of trees\")\n",
    "plt.ylabel(\"R^2\")\n",
    "plt.legend([\"Validation\",\"Training\"])\n",
    "\n",
    "plt.subplots_adjust(wspace = 0.5)\n",
    "plt.show()"
   ]
  },
  {
   "cell_type": "code",
   "execution_count": 134,
   "metadata": {},
   "outputs": [
    {
     "data": {
      "text/plain": [
       "Text(0, 0.5, 'R^2')"
      ]
     },
     "execution_count": 134,
     "metadata": {},
     "output_type": "execute_result"
    },
    {
     "data": {
      "image/png": "[encoded data removed]",
      "text/plain": [
       "<Figure size 720x540 with 1 Axes>"
      ]
     },
     "metadata": {
      "needs_background": "light"
     },
     "output_type": "display_data"
    }
   ],
   "source": [
    "fig = plt.subplots(figsize=(8, 6), dpi=90)\n",
    "plt.plot(n_estimators,estimators_accuracies_val)\n",
    "plt.title(\"R^2 for different numbers of trees\")\n",
    "plt.xlabel(\"Number of trees\")\n",
    "plt.ylabel(\"R^2\")"
   ]
  },
  {
   "cell_type": "markdown",
   "metadata": {},
   "source": [
    "Tuning to find the best criterion method"
   ]
  },
  {
   "cell_type": "code",
   "execution_count": 29,
   "metadata": {},
   "outputs": [],
   "source": [
    "criterions = [\"mse\",\"mae\"]\n",
    "criterions_accuracies = []\n",
    "\n",
    "for criterion in criterions:\n",
    "    rf = RandomForestRegressor(n_estimators =405,criterion = criterion ,n_jobs = -1)\n",
    "    rf.fit(X_train,y_train)\n",
    "    criterions_accuracies.append(rf.score(X_val,y_val)) "
   ]
  },
  {
   "cell_type": "code",
   "execution_count": 30,
   "metadata": {},
   "outputs": [
    {
     "name": "stdout",
     "output_type": "stream",
     "text": [
      "The best criterion to use for this random forest is mse and it gives an R^2 of 0.88.\n"
     ]
    }
   ],
   "source": [
    "print(\"The best criterion to use for this random forest is {} and it gives an R^2 of {:.2f}.\".format(criterions[criterions_accuracies.index(max(criterions_accuracies))],max(criterions_accuracies)))"
   ]
  },
  {
   "cell_type": "code",
   "execution_count": 31,
   "metadata": {},
   "outputs": [
    {
     "data": {
      "image/png": "[encoded data removed]",
      "text/plain": [
       "<Figure size 720x540 with 1 Axes>"
      ]
     },
     "metadata": {
      "needs_background": "light"
     },
     "output_type": "display_data"
    }
   ],
   "source": [
    "fig = plt.subplots(figsize=(8, 6), dpi=90)\n",
    "\n",
    "plt.bar(criterions,criterions_accuracies)\n",
    "plt.title(\"R^2 score for criterion\")\n",
    "plt.xlabel(\"Criterion\")\n",
    "plt.ylabel(\"R^2\")\n",
    "plt.show()"
   ]
  },
  {
   "cell_type": "markdown",
   "metadata": {},
   "source": [
    "Tuning the find the bext number of features to use at every split"
   ]
  },
  {
   "cell_type": "code",
   "execution_count": 32,
   "metadata": {},
   "outputs": [],
   "source": [
    "max_features = [\"auto\", \"log2\", 3,4,5]\n",
    "max_features_accuracies = []\n",
    "\n",
    "for feature in max_features:\n",
    "    rf = RandomForestRegressor(n_estimators =405 ,n_jobs = -1,max_features = feature, random_state = 1)\n",
    "    rf.fit(X_train,y_train)\n",
    "    max_features_accuracies.append(rf.score(X_test,y_test)) "
   ]
  },
  {
   "cell_type": "code",
   "execution_count": 33,
   "metadata": {},
   "outputs": [
    {
     "name": "stdout",
     "output_type": "stream",
     "text": [
      "The best distance measure to use for random forests is log2 and it gives an R^2 of 0.90.\n"
     ]
    }
   ],
   "source": [
    "print(\"The best distance measure to use for random forests is {} and it gives an R^2 of {:.2f}.\".format(max_features[max_features_accuracies.index(max(max_features_accuracies))],max(max_features_accuracies)))"
   ]
  },
  {
   "cell_type": "markdown",
   "metadata": {},
   "source": [
    "Finding the bext maximum depth"
   ]
  },
  {
   "cell_type": "code",
   "execution_count": 34,
   "metadata": {},
   "outputs": [],
   "source": [
    "max_depth = range(10, 25, 1)\n",
    "depth_accuracies_train = []\n",
    "depth_accuracies_val = []\n",
    "\n",
    "\n",
    "for depth in max_depth:\n",
    "    rf = RandomForestRegressor(max_depth = depth,n_jobs = -1, random_state = 1)\n",
    "    rf.fit(X_train,y_train)\n",
    "    depth_accuracies_val.append(rf.score(X_val,y_val))\n",
    "    depth_accuracies_train.append(rf.score(X_train,y_train))"
   ]
  },
  {
   "cell_type": "code",
   "execution_count": 35,
   "metadata": {},
   "outputs": [
    {
     "name": "stdout",
     "output_type": "stream",
     "text": [
      "The best number of estimators to use for random forests is: 18.\n"
     ]
    }
   ],
   "source": [
    "max_index = depth_accuracies_val.index(max(depth_accuracies_val))\n",
    "\n",
    "best_depth = max_depth[max_index]\n",
    "\n",
    "print(\"The best number of estimators to use for random forests is: {}.\".format(best_depth))"
   ]
  },
  {
   "cell_type": "code",
   "execution_count": 36,
   "metadata": {},
   "outputs": [
    {
     "data": {
      "image/png": "[encoded data removed]",
      "text/plain": [
       "<Figure size 900x540 with 2 Axes>"
      ]
     },
     "metadata": {
      "needs_background": "light"
     },
     "output_type": "display_data"
    }
   ],
   "source": [
    "fig = plt.subplots(figsize=(10, 6), dpi=90)\n",
    "\n",
    "\n",
    "plt.subplot(121)\n",
    "plt.plot(max_depth,depth_accuracies_val)\n",
    "plt.title(\"R^2 for different maximum depths\")\n",
    "plt.xlabel(\"Maximum Depth\")\n",
    "plt.ylabel(\"R^2\")\n",
    "\n",
    "\n",
    "plt.subplot(122)\n",
    "plt.plot(max_depth,depth_accuracies_val)\n",
    "plt.plot(max_depth,depth_accuracies_train)\n",
    "plt.title(\"R^2 for different maximum depths\")\n",
    "plt.xlabel(\"Maximum Depth\")\n",
    "plt.ylabel(\"R^2\")\n",
    "plt.legend([\"Validation\",\"Training\"])\n",
    "\n",
    "plt.subplots_adjust(wspace = 0.5)\n",
    "plt.show()\n"
   ]
  },
  {
   "cell_type": "markdown",
   "metadata": {},
   "source": [
    "Using the best parameters for the final random forest model"
   ]
  },
  {
   "cell_type": "code",
   "execution_count": 37,
   "metadata": {},
   "outputs": [
    {
     "data": {
      "text/plain": [
       "RandomForestRegressor(max_depth=18, max_features=3, n_estimators=405, n_jobs=-1,\n",
       "                      random_state=1)"
      ]
     },
     "execution_count": 37,
     "metadata": {},
     "output_type": "execute_result"
    }
   ],
   "source": [
    "rf_best = RandomForestRegressor(n_estimators = 405,max_depth = 18,max_features = 3,random_state = 1, n_jobs = -1)\n",
    "rf_best.fit(X_train,y_train)\n",
    "#random_forest_best.score(X_val,y_val)\n",
    "#print(\"The R^2 of the best forest classifier on the validation set is: {:.2f}.\".format(rf_best.score(X_val,y_val)))"
   ]
  },
  {
   "cell_type": "markdown",
   "metadata": {},
   "source": [
    "Calculate the coefficient of determination and the root mean squared error for the decision tree model using the test set. This is the result that will be used to compare models."
   ]
  },
  {
   "cell_type": "code",
   "execution_count": 38,
   "metadata": {},
   "outputs": [
    {
     "name": "stdout",
     "output_type": "stream",
     "text": [
      "The R^2 of the best forest classifier on the validation set is:0.8979.\n",
      "Random Forest root mean squared error:  2503.9863397500944\n"
     ]
    }
   ],
   "source": [
    "## Final random forest scores using the test set\n",
    "\n",
    "y_pred = rf_best.predict(X_test)\n",
    "\n",
    "print(\"The R^2 of the best forest classifier on the validation set is:{:.4f}.\".format(rf_best.score(X_test,y_test)))\n",
    "print(\"Random Forest root mean squared error: \", np.sqrt(metrics.mean_squared_error(y_pred,y_test)))\n",
    "\n",
    "rf_best_rmse = np.sqrt(metrics.mean_squared_error(y_pred,y_test))"
   ]
  },
  {
   "cell_type": "markdown",
   "metadata": {},
   "source": [
    "#### Comparing random forest to baseline linear regression model"
   ]
  },
  {
   "cell_type": "markdown",
   "metadata": {},
   "source": [
    "10-fold cross validation"
   ]
  },
  {
   "cell_type": "code",
   "execution_count": 41,
   "metadata": {},
   "outputs": [
    {
     "name": "stdout",
     "output_type": "stream",
     "text": [
      "[0.90586533 0.90212093 0.91279529 0.8899101  0.90207227 0.89485363\n",
      " 0.89148964 0.88514735 0.89992237 0.88759196]\n",
      "-------Running time------131.64301896095276\n"
     ]
    }
   ],
   "source": [
    "start = tm.time()\n",
    "cross_val_k_fold_rf = RandomForestRegressor(n_estimators = 405,max_depth = 18,max_features = 3,random_state = 1, n_jobs = -1)\n",
    "\n",
    "cross_val_scores_rf = cross_val_score(cross_val_k_fold_rf,X_train_val,y_train_val,cv = 10) \n",
    "print(cross_val_scores_rf)\n",
    "\n",
    "print(f\"-------Running time------{tm.time()-start}\")"
   ]
  },
  {
   "cell_type": "code",
   "execution_count": 42,
   "metadata": {},
   "outputs": [
    {
     "name": "stdout",
     "output_type": "stream",
     "text": [
      "The average R^2 score from the 10-fold cross validation is 0.89717688824324.\n"
     ]
    }
   ],
   "source": [
    "print(f\"The average R^2 score from the 10-fold cross validation is {cross_val_scores_rf.mean()}.\")"
   ]
  },
  {
   "cell_type": "code",
   "execution_count": 46,
   "metadata": {},
   "outputs": [
    {
     "name": "stdout",
     "output_type": "stream",
     "text": [
      "The result of the t-test with the null hypothesis suggesting the linear model and a random forest regressor have the same R^2 is: 2.1329313133397467e-14.\n",
      "\n",
      "We therefore reject the null and say that the random forest model with an R^2 average score of 0.90 is significantly superior\n",
      "to the linear model with an R^2 average of 0.47.\n"
     ]
    }
   ],
   "source": [
    "#T-test comparing decision tree vs linear model\n",
    "\n",
    "stats.ttest_rel(cross_val_scores_lm,cross_val_scores_rf)\n",
    "\n",
    "print(\"The result of the t-test with the null hypothesis suggesting the linear model and a random forest regressor have the same R^2 is: {}.\".\n",
    "     format(stats.ttest_rel(cross_val_scores_lm,cross_val_scores_rf).pvalue*0.5))\n",
    "\n",
    "print(\"\\nWe therefore reject the null and say that the random forest model with an R^2 average score of {:.2f} is significantly superior\\nto the linear model with an R^2 average of {:.2f}.\".\n",
    "     format(cross_val_scores_rf.mean(),cross_val_scores_lm.mean()))\n"
   ]
  },
  {
   "cell_type": "code",
   "execution_count": 47,
   "metadata": {},
   "outputs": [
    {
     "data": {
      "text/html": [
       "<div>\n",
       "<style scoped>\n",
       "    .dataframe tbody tr th:only-of-type {\n",
       "        vertical-align: middle;\n",
       "    }\n",
       "\n",
       "    .dataframe tbody tr th {\n",
       "        vertical-align: top;\n",
       "    }\n",
       "\n",
       "    .dataframe thead th {\n",
       "        text-align: right;\n",
       "    }\n",
       "</style>\n",
       "<table border=\"1\" class=\"dataframe\">\n",
       "  <thead>\n",
       "    <tr style=\"text-align: right;\">\n",
       "      <th></th>\n",
       "      <th>Random Forest R^2 score</th>\n",
       "    </tr>\n",
       "  </thead>\n",
       "  <tbody>\n",
       "    <tr>\n",
       "      <th>0</th>\n",
       "      <td>0.91</td>\n",
       "    </tr>\n",
       "    <tr>\n",
       "      <th>1</th>\n",
       "      <td>0.90</td>\n",
       "    </tr>\n",
       "    <tr>\n",
       "      <th>2</th>\n",
       "      <td>0.91</td>\n",
       "    </tr>\n",
       "    <tr>\n",
       "      <th>3</th>\n",
       "      <td>0.89</td>\n",
       "    </tr>\n",
       "    <tr>\n",
       "      <th>4</th>\n",
       "      <td>0.90</td>\n",
       "    </tr>\n",
       "    <tr>\n",
       "      <th>5</th>\n",
       "      <td>0.89</td>\n",
       "    </tr>\n",
       "    <tr>\n",
       "      <th>6</th>\n",
       "      <td>0.89</td>\n",
       "    </tr>\n",
       "    <tr>\n",
       "      <th>7</th>\n",
       "      <td>0.89</td>\n",
       "    </tr>\n",
       "    <tr>\n",
       "      <th>8</th>\n",
       "      <td>0.90</td>\n",
       "    </tr>\n",
       "    <tr>\n",
       "      <th>9</th>\n",
       "      <td>0.89</td>\n",
       "    </tr>\n",
       "  </tbody>\n",
       "</table>\n",
       "</div>"
      ],
      "text/plain": [
       "   Random Forest R^2 score\n",
       "0                     0.91\n",
       "1                     0.90\n",
       "2                     0.91\n",
       "3                     0.89\n",
       "4                     0.90\n",
       "5                     0.89\n",
       "6                     0.89\n",
       "7                     0.89\n",
       "8                     0.90\n",
       "9                     0.89"
      ]
     },
     "execution_count": 47,
     "metadata": {},
     "output_type": "execute_result"
    }
   ],
   "source": [
    "rf_result = {\"Random Forest R^2 score\": cross_val_scores_rf}\n",
    "\n",
    "rf_result = pd.DataFrame(rf_result)\n",
    "rf_result[\"Random Forest R^2 score\"] = rf_result[\"Random Forest R^2 score\"].apply(lambda x: round(x,2))\n",
    "rf_result"
   ]
  },
  {
   "cell_type": "code",
   "execution_count": 53,
   "metadata": {},
   "outputs": [
    {
     "data": {
      "text/html": [
       "<div>\n",
       "<style scoped>\n",
       "    .dataframe tbody tr th:only-of-type {\n",
       "        vertical-align: middle;\n",
       "    }\n",
       "\n",
       "    .dataframe tbody tr th {\n",
       "        vertical-align: top;\n",
       "    }\n",
       "\n",
       "    .dataframe thead th {\n",
       "        text-align: right;\n",
       "    }\n",
       "</style>\n",
       "<table border=\"1\" class=\"dataframe\">\n",
       "  <thead>\n",
       "    <tr style=\"text-align: right;\">\n",
       "      <th></th>\n",
       "      <th>Model</th>\n",
       "      <th>R^2</th>\n",
       "      <th>Root mean squared error</th>\n",
       "    </tr>\n",
       "  </thead>\n",
       "  <tbody>\n",
       "    <tr>\n",
       "      <th>0</th>\n",
       "      <td>Linear Regression Model</td>\n",
       "      <td>0.47</td>\n",
       "      <td>5711.82</td>\n",
       "    </tr>\n",
       "    <tr>\n",
       "      <th>1</th>\n",
       "      <td>Decision Tree Model</td>\n",
       "      <td>0.83</td>\n",
       "      <td>3201.12</td>\n",
       "    </tr>\n",
       "    <tr>\n",
       "      <th>2</th>\n",
       "      <td>Random Forest Model</td>\n",
       "      <td>0.90</td>\n",
       "      <td>2503.99</td>\n",
       "    </tr>\n",
       "  </tbody>\n",
       "</table>\n",
       "</div>"
      ],
      "text/plain": [
       "                     Model   R^2  Root mean squared error\n",
       "0  Linear Regression Model  0.47                  5711.82\n",
       "1      Decision Tree Model  0.83                  3201.12\n",
       "2      Random Forest Model  0.90                  2503.99"
      ]
     },
     "execution_count": 53,
     "metadata": {},
     "output_type": "execute_result"
    }
   ],
   "source": [
    "linear_r_squared = lm_model.score(X_test,y_test)\n",
    "\n",
    "decision_tree_r_squared = dt.score(X_test,y_test)\n",
    "\n",
    "random_forest_r_squared = rf_best.score(X_test,y_test)\n",
    "\n",
    "scores = {\"Model\":[\"Linear Regression Model\", \"Decision Tree Model\",\"Random Forest Model\"],\n",
    "         \"R^2\":[round(linear_r_squared,2),round(decision_tree_r_squared,2),round(random_forest_r_squared,2)],\n",
    "         \"Root mean squared error\":[round(lm_rmse,2),round(dt_rmse,2),round(rf_best_rmse,2)]}\n",
    "\n",
    "results = pd.DataFrame(scores)\n",
    "results"
   ]
  },
  {
   "cell_type": "code",
   "execution_count": 54,
   "metadata": {},
   "outputs": [
    {
     "data": {
      "image/png": "[encoded data removed]",
      "text/plain": [
       "<Figure size 900x540 with 2 Axes>"
      ]
     },
     "metadata": {
      "needs_background": "light"
     },
     "output_type": "display_data"
    }
   ],
   "source": [
    "fig = plt.subplots(figsize=(10, 6), dpi=90)\n",
    "\n",
    "plt.subplot(121)\n",
    "plt.bar(results.Model,results['R^2'], color = [\"blue\",\"red\",\"green\"])\n",
    "plt.title(\"R^2 of the three models\")\n",
    "plt.ylabel(\"R^2\")\n",
    "plt.xticks(rotation = 45)\n",
    "\n",
    "plt.subplot(122)\n",
    "plt.bar(results.Model,results[\"Root mean squared error\"], color = [\"blue\",\"red\",\"green\"])\n",
    "plt.title(\"Root mean squared error of the three models\")\n",
    "plt.ylabel(\"Root mean squared error\")\n",
    "plt.xticks(rotation = 45)\n",
    "\n",
    "\n",
    "\n",
    "plt.subplots_adjust(wspace = 0.5)\n",
    "plt.show()"
   ]
  },
  {
   "cell_type": "code",
   "execution_count": 57,
   "metadata": {},
   "outputs": [
    {
     "data": {
      "image/png": "[encoded data removed]",
      "text/plain": [
       "<Figure size 720x540 with 1 Axes>"
      ]
     },
     "metadata": {
      "needs_background": "light"
     },
     "output_type": "display_data"
    }
   ],
   "source": [
    "fig = plt.subplots(figsize=(8, 6), dpi=90)\n",
    "\n",
    "\n",
    "sns.boxplot(data = [cross_val_scores_lm,cross_val_scores_dt,cross_val_scores_rf])\n",
    "plt.xticks(plt.xticks()[0],[\"Linear Regression\",\"Decision Tree\",\"Random Forest\"])\n",
    "plt.ylabel(\"R^2\")\n",
    "plt.title(\"Boxplot of R^2 scores from 10-fold cross validation\")\n",
    "plt.show()\n"
   ]
  },
  {
   "cell_type": "code",
   "execution_count": null,
   "metadata": {},
   "outputs": [],
   "source": []
  },
  {
   "cell_type": "code",
   "execution_count": null,
   "metadata": {},
   "outputs": [],
   "source": []
  }
 ],
 "metadata": {
  "kernelspec": {
   "display_name": "Python 3",
   "language": "python",
   "name": "python3"
  },
  "language_info": {
   "codemirror_mode": {
    "name": "ipython",
    "version": 3
   },
   "file_extension": ".py",
   "mimetype": "text/x-python",
   "name": "python",
   "nbconvert_exporter": "python",
   "pygments_lexer": "ipython3",
   "version": "3.8.3"
  }
 },
 "nbformat": 4,
 "nbformat_minor": 4
}
